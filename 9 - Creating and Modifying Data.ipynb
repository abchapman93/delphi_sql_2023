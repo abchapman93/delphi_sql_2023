{
 "cells": [
  {
   "cell_type": "code",
   "execution_count": 1,
   "id": "724c61ff-1e56-412a-ba50-a0d72dc1eb71",
   "metadata": {},
   "outputs": [],
   "source": [
    "%load_ext sql"
   ]
  },
  {
   "cell_type": "code",
   "execution_count": 2,
   "id": "3ef22e30-d2da-4586-9121-c28265812833",
   "metadata": {},
   "outputs": [],
   "source": [
    "%sql sqlite://"
   ]
  },
  {
   "cell_type": "markdown",
   "id": "76936d43-baa0-440e-9cf2-72898254a8a3",
   "metadata": {},
   "source": [
    "We can create tables use `CREATE TABLE` and drop them using `DROP TABLE`."
   ]
  },
  {
   "cell_type": "code",
   "execution_count": 3,
   "id": "3572982d-7441-437f-ad2d-bf5d27f76395",
   "metadata": {},
   "outputs": [
    {
     "name": "stdout",
     "output_type": "stream",
     "text": [
      " * sqlite://\n",
      "Done.\n",
      "Done.\n",
      "Done.\n",
      "Done.\n"
     ]
    },
    {
     "data": {
      "text/plain": [
       "[]"
      ]
     },
     "execution_count": 3,
     "metadata": {},
     "output_type": "execute_result"
    }
   ],
   "source": [
    "%%sql\n",
    "CREATE TABLE Person(id text, personal text, family text);\n",
    "CREATE TABLE Site(name text, lat real, long real);\n",
    "CREATE TABLE Visited(id integer, site text, dated text);\n",
    "CREATE TABLE Survey(taken integer, person text, quant text, reading real);"
   ]
  },
  {
   "cell_type": "code",
   "execution_count": 4,
   "id": "e0c008b4-0cfe-44c5-942a-eb97c22828a7",
   "metadata": {},
   "outputs": [
    {
     "name": "stdout",
     "output_type": "stream",
     "text": [
      " * sqlite://\n",
      "Done.\n"
     ]
    },
    {
     "data": {
      "text/plain": [
       "[]"
      ]
     },
     "execution_count": 4,
     "metadata": {},
     "output_type": "execute_result"
    }
   ],
   "source": [
    "%%sql\n",
    "DROP TABLE Survey;"
   ]
  },
  {
   "cell_type": "markdown",
   "id": "a06a8fce-15cb-438e-9691-0616137b337b",
   "metadata": {},
   "source": [
    "We might want to put certain constraints on tables. Some constraints could include:\n",
    "- Not allowing certain columns to be NULL\n",
    "- Defining 1 or more columns as the `PRIMARY KEY`, which uniquely defines a row\n",
    "- Referencing a column to another table we'll join with using a `FOREIGN KEY`\n",
    "\n",
    "#### TODO\n",
    "For example, let's look at our definition of `Survey`.\n",
    "\n",
    "```sql\n",
    "CREATE TABLE Survey(\n",
    "    taken integer, \n",
    "    person text, \n",
    "    quant text, \n",
    "    reading real\n",
    ");\n",
    "```\n",
    "\n",
    "- Which of these columns should not be allowed to be missing?\n",
    "- What might be a good primary key?\n",
    "- Do any of the columns reference other tables?"
   ]
  },
  {
   "cell_type": "code",
   "execution_count": 5,
   "id": "50816be5-cf5e-46dd-aa93-ed7cb21ff415",
   "metadata": {},
   "outputs": [
    {
     "name": "stdout",
     "output_type": "stream",
     "text": [
      " * sqlite://\n",
      "Done.\n"
     ]
    },
    {
     "data": {
      "text/plain": [
       "[]"
      ]
     },
     "execution_count": 5,
     "metadata": {},
     "output_type": "execute_result"
    }
   ],
   "source": [
    "%%sql\n",
    "CREATE TABLE Survey(\n",
    "    taken   integer not null, -- where reading taken\n",
    "    person  text,             -- may not know who took it\n",
    "    quant   text not null,    -- the quantity measured\n",
    "    reading real not null,    -- the actual reading\n",
    "    primary key(taken, person, quant),    -- key is taken + person + quant\n",
    "    foreign key(taken) references Visited(id),\n",
    "    foreign key(person) references Person(id)\n",
    ");"
   ]
  },
  {
   "cell_type": "markdown",
   "id": "b4c60419-034e-4bb1-af2a-f9e07c83af03",
   "metadata": {},
   "source": [
    "## Updating data\n",
    "Next let's put some data in our tables.\n",
    "\n",
    "The syntax for this is:\n",
    "```sql\n",
    "INSERT INTO [Table Name]\n",
    "VALUES (val1, val2, ...);\n",
    "```\n",
    "\n",
    "So, let's add some rows of data to `Site`:"
   ]
  },
  {
   "cell_type": "code",
   "execution_count": 16,
   "id": "be279f86-e8e9-4817-9908-67ab608bf9f7",
   "metadata": {},
   "outputs": [
    {
     "name": "stdout",
     "output_type": "stream",
     "text": [
      " * sqlite://\n",
      "1 rows affected.\n"
     ]
    },
    {
     "data": {
      "text/plain": [
       "[]"
      ]
     },
     "execution_count": 16,
     "metadata": {},
     "output_type": "execute_result"
    }
   ],
   "source": []
  },
  {
   "cell_type": "code",
   "execution_count": 6,
   "id": "33bdbb43-c418-48f0-998f-9910696b5169",
   "metadata": {},
   "outputs": [
    {
     "name": "stdout",
     "output_type": "stream",
     "text": [
      " * sqlite://\n",
      "1 rows affected.\n",
      "1 rows affected.\n",
      "1 rows affected.\n"
     ]
    },
    {
     "data": {
      "text/plain": [
       "[]"
      ]
     },
     "execution_count": 6,
     "metadata": {},
     "output_type": "execute_result"
    }
   ],
   "source": [
    "%%sql\n",
    "INSERT INTO Site (name, lat, long) VALUES ('DR-1', -49.85, -128.57);\n",
    "INSERT INTO Site (name, lat, long) VALUES ('DR-3', -47.15, -126.72);\n",
    "INSERT INTO Site (name, lat, long) VALUES ('MSK-4', -48.87, -123.40);"
   ]
  },
  {
   "cell_type": "markdown",
   "id": "51e87ec3-60b6-4195-9b12-f0dc537eabce",
   "metadata": {},
   "source": [
    "#### TODO\n",
    "What would would happen if we changed `-123.40` to a string?\n",
    "\n",
    "What would happen if we changed `-123.40` to `'abc.de'`?"
   ]
  },
  {
   "cell_type": "code",
   "execution_count": 7,
   "id": "3a4af414-8bc9-4a9c-b294-913690bf5536",
   "metadata": {},
   "outputs": [
    {
     "name": "stdout",
     "output_type": "stream",
     "text": [
      " * sqlite://\n",
      "1 rows affected.\n"
     ]
    },
    {
     "data": {
      "text/plain": [
       "[]"
      ]
     },
     "execution_count": 7,
     "metadata": {},
     "output_type": "execute_result"
    }
   ],
   "source": [
    "%%sql\n",
    "INSERT INTO Site (name, lat, long) VALUES ('MSK-4', -48.87, 'abc.de');"
   ]
  },
  {
   "cell_type": "markdown",
   "id": "37c89d59-f15c-4250-8ff3-277dcdb7f988",
   "metadata": {},
   "source": [
    "#### TODO\n",
    "What is wrong with this `INSERT` statement?\n",
    "```sql\n",
    "INSERT INTO Survey(person, quant, reading)\n",
    "VALUES ('alec', 'temp', 0)\n",
    "```"
   ]
  },
  {
   "cell_type": "markdown",
   "id": "119f7cca-79ed-44c1-82bd-96a0b18d6d47",
   "metadata": {},
   "source": [
    "#### TODO\n",
    "Insert the following rows into `Person`:\n",
    "- Alec Chapman, id ABC\n",
    "- Rebecca Barter, id RB"
   ]
  },
  {
   "cell_type": "code",
   "execution_count": 11,
   "id": "5a8db94b-b097-44d1-9a8b-09cce3e4e312",
   "metadata": {},
   "outputs": [
    {
     "name": "stdout",
     "output_type": "stream",
     "text": [
      " * sqlite://\n",
      "2 rows affected.\n"
     ]
    },
    {
     "data": {
      "text/plain": [
       "[]"
      ]
     },
     "execution_count": 11,
     "metadata": {},
     "output_type": "execute_result"
    }
   ],
   "source": [
    "%%sql\n",
    "INSERT INTO Person (\n",
    "    id,\n",
    "    personal,\n",
    "    family\n",
    ")\n",
    "VALUES ('abc', 'Alec', 'Chapman'), \n",
    "    ('RB', 'Rebecca', 'Barter')"
   ]
  },
  {
   "cell_type": "markdown",
   "id": "9d264bf2-5137-47ee-81bc-3d9f0fac1fa5",
   "metadata": {},
   "source": [
    "#### TODO\n",
    "Insert the following row into `Survey`:\n",
    "\n",
    "- Taken: 1\n",
    "- person: Rebecca Barter's ID\n",
    "- quant: 'temp'\n",
    "- reading: 0"
   ]
  },
  {
   "cell_type": "code",
   "execution_count": 18,
   "id": "62b9c54a-4859-4c25-85fc-13ebff0f1703",
   "metadata": {},
   "outputs": [
    {
     "name": "stdout",
     "output_type": "stream",
     "text": [
      " * sqlite://\n",
      "(sqlite3.IntegrityError) UNIQUE constraint failed: Survey.taken, Survey.person, Survey.quant\n",
      "[SQL: INSERT INTO Survey(taken, person, quant, reading)\n",
      "VALUES (1, 'rb', 'temp', 0)]\n",
      "(Background on this error at: https://sqlalche.me/e/20/gkpj)\n"
     ]
    }
   ],
   "source": [
    "%%sql\n",
    "INSERT INTO Survey(taken, person, quant, reading)\n",
    "VALUES (1, 'rb', 'temp', 0)"
   ]
  },
  {
   "cell_type": "code",
   "execution_count": null,
   "id": "e3b73492-2b49-4887-ab58-8f2569aacbda",
   "metadata": {},
   "outputs": [],
   "source": []
  },
  {
   "cell_type": "markdown",
   "id": "a85b942a-525e-4631-9360-4ad68aeffd18",
   "metadata": {},
   "source": [
    "We can also insert values from one table into another:"
   ]
  },
  {
   "cell_type": "code",
   "execution_count": 19,
   "id": "9667f016-8fb4-4947-bd38-804b67d7d94c",
   "metadata": {},
   "outputs": [
    {
     "name": "stdout",
     "output_type": "stream",
     "text": [
      " * sqlite://\n",
      "(sqlite3.OperationalError) table JustLatLong already exists\n",
      "[SQL: CREATE TABLE JustLatLong(lat real, long real);]\n",
      "(Background on this error at: https://sqlalche.me/e/20/e3q8)\n"
     ]
    }
   ],
   "source": [
    "%%sql\n",
    "CREATE TABLE JustLatLong(lat real, long real);"
   ]
  },
  {
   "cell_type": "code",
   "execution_count": 20,
   "id": "482a2dc1-a367-4bcf-ad4b-397897832d7b",
   "metadata": {},
   "outputs": [
    {
     "name": "stdout",
     "output_type": "stream",
     "text": [
      " * sqlite://\n",
      "4 rows affected.\n",
      "Done.\n"
     ]
    },
    {
     "data": {
      "text/html": [
       "<table>\n",
       "    <thead>\n",
       "        <tr>\n",
       "            <th>lat</th>\n",
       "            <th>long</th>\n",
       "        </tr>\n",
       "    </thead>\n",
       "    <tbody>\n",
       "        <tr>\n",
       "            <td>-49.85</td>\n",
       "            <td>-128.57</td>\n",
       "        </tr>\n",
       "        <tr>\n",
       "            <td>-47.15</td>\n",
       "            <td>-126.72</td>\n",
       "        </tr>\n",
       "        <tr>\n",
       "            <td>-47.87</td>\n",
       "            <td>-122.4</td>\n",
       "        </tr>\n",
       "        <tr>\n",
       "            <td>-47.87</td>\n",
       "            <td>-122.4</td>\n",
       "        </tr>\n",
       "    </tbody>\n",
       "</table>"
      ],
      "text/plain": [
       "[(-49.85, -128.57), (-47.15, -126.72), (-47.87, -122.4), (-47.87, -122.4)]"
      ]
     },
     "execution_count": 20,
     "metadata": {},
     "output_type": "execute_result"
    }
   ],
   "source": [
    "%%sql\n",
    "INSERT INTO JustLatLong SELECT lat, long FROM Site;\n",
    "SELECT * FROM JustLatLong"
   ]
  },
  {
   "cell_type": "code",
   "execution_count": null,
   "id": "52fe5728-0c28-4a64-b6ca-2845d03bb9bf",
   "metadata": {},
   "outputs": [],
   "source": []
  },
  {
   "cell_type": "markdown",
   "id": "5f1a9162-b6d4-4e4f-86c3-445cbac94d07",
   "metadata": {},
   "source": [
    "We can change values in existing rows using the `UPDATE` keyword. So let's say we realized that the latitude and longitude were incorrect for site **MSK-4**. We can fix it using this command:"
   ]
  },
  {
   "cell_type": "code",
   "execution_count": 10,
   "id": "9e54c105-bf71-4450-9613-cfd7e38bb08e",
   "metadata": {},
   "outputs": [
    {
     "name": "stdout",
     "output_type": "stream",
     "text": [
      " * sqlite://\n",
      "2 rows affected.\n"
     ]
    },
    {
     "data": {
      "text/plain": [
       "[]"
      ]
     },
     "execution_count": 10,
     "metadata": {},
     "output_type": "execute_result"
    }
   ],
   "source": [
    "%%sql\n",
    "UPDATE Site SET lat = -47.87, long = -122.40 WHERE name = 'MSK-4';"
   ]
  },
  {
   "cell_type": "code",
   "execution_count": null,
   "id": "0b3b6d7c-97f9-44ad-ab02-ba347a342e20",
   "metadata": {},
   "outputs": [],
   "source": []
  },
  {
   "cell_type": "markdown",
   "id": "5e5f2667-091d-4719-a69f-ca401c3d6498",
   "metadata": {},
   "source": [
    "We can delete rows using `DELETE`. This follows the syntax:\n",
    "\n",
    "```sql\n",
    "DELETE FROM table WHERE ...\n",
    "```\n",
    "\n",
    "#### TODO\n",
    "For example, let's say we only wanted to keep sites in `JustLatLong` with a latitude > -49. "
   ]
  },
  {
   "cell_type": "markdown",
   "id": "01b59595-2950-4ae5-a6d2-0a194a1a5cc0",
   "metadata": {},
   "source": []
  },
  {
   "cell_type": "code",
   "execution_count": 21,
   "id": "c0940be1-84ae-478e-a42c-caa792388359",
   "metadata": {},
   "outputs": [
    {
     "name": "stdout",
     "output_type": "stream",
     "text": [
      " * sqlite://\n",
      "1 rows affected.\n"
     ]
    },
    {
     "data": {
      "text/plain": [
       "[]"
      ]
     },
     "execution_count": 21,
     "metadata": {},
     "output_type": "execute_result"
    }
   ],
   "source": [
    "%%sql\n",
    "DELETE FROM JustLatLong\n",
    "WHERE lat <= -49;"
   ]
  },
  {
   "cell_type": "code",
   "execution_count": 22,
   "id": "68bbfd82-b6e2-4d4e-ab59-bc144a0a24a9",
   "metadata": {},
   "outputs": [
    {
     "name": "stdout",
     "output_type": "stream",
     "text": [
      " * sqlite://\n",
      "Done.\n"
     ]
    },
    {
     "data": {
      "text/html": [
       "<table>\n",
       "    <thead>\n",
       "        <tr>\n",
       "            <th>lat</th>\n",
       "            <th>long</th>\n",
       "        </tr>\n",
       "    </thead>\n",
       "    <tbody>\n",
       "        <tr>\n",
       "            <td>-47.15</td>\n",
       "            <td>-126.72</td>\n",
       "        </tr>\n",
       "        <tr>\n",
       "            <td>-47.87</td>\n",
       "            <td>-122.4</td>\n",
       "        </tr>\n",
       "        <tr>\n",
       "            <td>-47.87</td>\n",
       "            <td>-122.4</td>\n",
       "        </tr>\n",
       "    </tbody>\n",
       "</table>"
      ],
      "text/plain": [
       "[(-47.15, -126.72), (-47.87, -122.4), (-47.87, -122.4)]"
      ]
     },
     "execution_count": 22,
     "metadata": {},
     "output_type": "execute_result"
    }
   ],
   "source": [
    "%%sql\n",
    "SELECT * FROM JustLatLong"
   ]
  },
  {
   "cell_type": "code",
   "execution_count": null,
   "id": "6b497254-7399-4b26-beb8-72d69ae3d139",
   "metadata": {},
   "outputs": [],
   "source": []
  },
  {
   "cell_type": "markdown",
   "id": "cf29acaa-5d7a-4b9f-bcc1-9f8769207611",
   "metadata": {},
   "source": [
    "before we added both my own and Rebecca's names to `Person`, but only added survey measurement data for Rebecca. So let's take me off the expedition. How would we do that?"
   ]
  },
  {
   "cell_type": "code",
   "execution_count": 24,
   "id": "c25bb0ad-621c-4304-8707-eafdac2f316d",
   "metadata": {},
   "outputs": [
    {
     "name": "stdout",
     "output_type": "stream",
     "text": [
      " * sqlite://\n",
      "1 rows affected.\n"
     ]
    },
    {
     "data": {
      "text/plain": [
       "[]"
      ]
     },
     "execution_count": 24,
     "metadata": {},
     "output_type": "execute_result"
    }
   ],
   "source": [
    "%%sql\n",
    "DELETE \n",
    "FROM Person\n",
    "WHERE id = 'abc';"
   ]
  },
  {
   "cell_type": "markdown",
   "id": "8cef38f1-b534-4b52-a142-1918b50ad946",
   "metadata": {},
   "source": [
    "We could also removed Rebecca's name - but what would be a problem with this?"
   ]
  },
  {
   "cell_type": "code",
   "execution_count": 25,
   "id": "e5161c08-9ee3-454d-85c3-369975a0f0b5",
   "metadata": {},
   "outputs": [
    {
     "name": "stdout",
     "output_type": "stream",
     "text": [
      " * sqlite://\n",
      "1 rows affected.\n"
     ]
    },
    {
     "data": {
      "text/plain": [
       "[]"
      ]
     },
     "execution_count": 25,
     "metadata": {},
     "output_type": "execute_result"
    }
   ],
   "source": [
    "%%sql\n",
    "DELETE \n",
    "FROM Person\n",
    "WHERE id = 'RB';"
   ]
  },
  {
   "cell_type": "code",
   "execution_count": null,
   "id": "95625e7f-0c1a-4a5f-9ecb-82847cae91a2",
   "metadata": {},
   "outputs": [],
   "source": []
  },
  {
   "cell_type": "markdown",
   "id": "e9a45942-7f2b-4f73-9749-818acd61a0ce",
   "metadata": {},
   "source": [
    "#### TODO\n",
    "In the original dataset, modify the `Survey.person` column and replace all the NULL values with the string 'unknown'."
   ]
  },
  {
   "cell_type": "code",
   "execution_count": null,
   "id": "42879c93-4387-4ec7-97c9-1e1aeadd4e1f",
   "metadata": {},
   "outputs": [],
   "source": []
  }
 ],
 "metadata": {
  "kernelspec": {
   "display_name": "Python 3 (ipykernel)",
   "language": "python",
   "name": "python3"
  },
  "language_info": {
   "codemirror_mode": {
    "name": "ipython",
    "version": 3
   },
   "file_extension": ".py",
   "mimetype": "text/x-python",
   "name": "python",
   "nbconvert_exporter": "python",
   "pygments_lexer": "ipython3",
   "version": "3.11.5"
  }
 },
 "nbformat": 4,
 "nbformat_minor": 5
}

{
 "cells": [
  {
   "cell_type": "code",
   "execution_count": 1,
   "id": "d185b68c-9867-4812-9f2f-156d20259478",
   "metadata": {},
   "outputs": [],
   "source": [
    "%load_ext sql"
   ]
  },
  {
   "cell_type": "code",
   "execution_count": 2,
   "id": "83e59287-821b-49f9-835f-67dcb4ece5bd",
   "metadata": {},
   "outputs": [],
   "source": [
    "%sql sqlite:///survey.db"
   ]
  },
  {
   "cell_type": "markdown",
   "id": "9d3319ff-0cf6-4ddb-bdcd-85bcbc1bcd59",
   "metadata": {},
   "source": [
    "# 4. Calculating new values\n",
    "We often need to alter the data we're anlayzing. For example, we might need to do some transformation of the data or we realize there's something wrong with the data and we need to correct it.\n",
    "\n",
    "Let's say that the radiation measurements in our dataset were incorrectly measured and need to be be corrected upward by 5%. We could go back to the source files and edit directly, or we could make this adjustment in our query:"
   ]
  },
  {
   "cell_type": "code",
   "execution_count": 4,
   "id": "c086b0b6-14e4-489e-84de-087faf979764",
   "metadata": {},
   "outputs": [
    {
     "name": "stdout",
     "output_type": "stream",
     "text": [
      " * sqlite:///survey.db\n",
      "Done.\n"
     ]
    },
    {
     "data": {
      "text/html": [
       "<table>\n",
       "    <thead>\n",
       "        <tr>\n",
       "            <th>1.05 * reading</th>\n",
       "        </tr>\n",
       "    </thead>\n",
       "    <tbody>\n",
       "        <tr>\n",
       "            <td>10.311</td>\n",
       "        </tr>\n",
       "        <tr>\n",
       "            <td>8.19</td>\n",
       "        </tr>\n",
       "        <tr>\n",
       "            <td>8.8305</td>\n",
       "        </tr>\n",
       "        <tr>\n",
       "            <td>7.581</td>\n",
       "        </tr>\n",
       "        <tr>\n",
       "            <td>4.5675</td>\n",
       "        </tr>\n",
       "        <tr>\n",
       "            <td>2.2995</td>\n",
       "        </tr>\n",
       "        <tr>\n",
       "            <td>1.533</td>\n",
       "        </tr>\n",
       "        <tr>\n",
       "            <td>11.8125</td>\n",
       "        </tr>\n",
       "    </tbody>\n",
       "</table>"
      ],
      "text/plain": [
       "[(10.311,),\n",
       " (8.19,),\n",
       " (8.8305,),\n",
       " (7.581,),\n",
       " (4.5675,),\n",
       " (2.2995,),\n",
       " (1.533,),\n",
       " (11.8125,)]"
      ]
     },
     "execution_count": 4,
     "metadata": {},
     "output_type": "execute_result"
    }
   ],
   "source": [
    "%%sql\n",
    "SELECT 1.05 * reading FROM Survey WHERE quant = 'rad';"
   ]
  },
  {
   "cell_type": "code",
   "execution_count": 5,
   "id": "8bf35c71-977f-4bf1-b568-52f10fbeaf46",
   "metadata": {},
   "outputs": [
    {
     "name": "stdout",
     "output_type": "stream",
     "text": [
      " * sqlite:///survey.db\n",
      "Done.\n"
     ]
    },
    {
     "data": {
      "text/html": [
       "<table>\n",
       "    <thead>\n",
       "        <tr>\n",
       "            <th>reading_original</th>\n",
       "            <th>reading_corrected</th>\n",
       "        </tr>\n",
       "    </thead>\n",
       "    <tbody>\n",
       "        <tr>\n",
       "            <td>9.82</td>\n",
       "            <td>10.311</td>\n",
       "        </tr>\n",
       "        <tr>\n",
       "            <td>7.8</td>\n",
       "            <td>8.19</td>\n",
       "        </tr>\n",
       "        <tr>\n",
       "            <td>8.41</td>\n",
       "            <td>8.8305</td>\n",
       "        </tr>\n",
       "        <tr>\n",
       "            <td>7.22</td>\n",
       "            <td>7.581</td>\n",
       "        </tr>\n",
       "        <tr>\n",
       "            <td>4.35</td>\n",
       "            <td>4.5675</td>\n",
       "        </tr>\n",
       "        <tr>\n",
       "            <td>2.19</td>\n",
       "            <td>2.2995</td>\n",
       "        </tr>\n",
       "        <tr>\n",
       "            <td>1.46</td>\n",
       "            <td>1.533</td>\n",
       "        </tr>\n",
       "        <tr>\n",
       "            <td>11.25</td>\n",
       "            <td>11.8125</td>\n",
       "        </tr>\n",
       "    </tbody>\n",
       "</table>"
      ],
      "text/plain": [
       "[(9.82, 10.311),\n",
       " (7.8, 8.19),\n",
       " (8.41, 8.8305),\n",
       " (7.22, 7.581),\n",
       " (4.35, 4.5675),\n",
       " (2.19, 2.2995),\n",
       " (1.46, 1.533),\n",
       " (11.25, 11.8125)]"
      ]
     },
     "execution_count": 5,
     "metadata": {},
     "output_type": "execute_result"
    }
   ],
   "source": [
    "%%sql\n",
    "SELECT reading AS reading_original, 1.05*reading AS reading_corrected\n",
    "FROM Survey \n",
    "WHERE quant = 'rad';"
   ]
  },
  {
   "cell_type": "markdown",
   "id": "fcdf5dbe-e27f-4aa2-9de2-9b514464958e",
   "metadata": {},
   "source": [
    "We can also do more complex operations. For example, let's try converting temperatures from Farenheit to Celsius, and then rounding to 2 decimals.\n",
    "\n",
    "The process for converting farenheight:\n",
    "1. Subtract 32\n",
    "2. Multiply by 5/9"
   ]
  },
  {
   "cell_type": "code",
   "execution_count": 6,
   "id": "4dc2ffb8-9dd2-4b3b-969d-98d662ad6c8a",
   "metadata": {},
   "outputs": [
    {
     "name": "stdout",
     "output_type": "stream",
     "text": [
      " * sqlite:///survey.db\n",
      "Done.\n"
     ]
    },
    {
     "data": {
      "text/html": [
       "<table>\n",
       "    <thead>\n",
       "        <tr>\n",
       "            <th>taken</th>\n",
       "            <th>person</th>\n",
       "            <th>quant</th>\n",
       "            <th>reading</th>\n",
       "            <th>celsius</th>\n",
       "        </tr>\n",
       "    </thead>\n",
       "    <tbody>\n",
       "        <tr>\n",
       "            <td>734</td>\n",
       "            <td>pb</td>\n",
       "            <td>temp</td>\n",
       "            <td>-21.5</td>\n",
       "            <td>-29.72</td>\n",
       "        </tr>\n",
       "        <tr>\n",
       "            <td>735</td>\n",
       "            <td>None</td>\n",
       "            <td>temp</td>\n",
       "            <td>-26.0</td>\n",
       "            <td>-32.22</td>\n",
       "        </tr>\n",
       "        <tr>\n",
       "            <td>751</td>\n",
       "            <td>pb</td>\n",
       "            <td>temp</td>\n",
       "            <td>-18.5</td>\n",
       "            <td>-28.06</td>\n",
       "        </tr>\n",
       "        <tr>\n",
       "            <td>752</td>\n",
       "            <td>lake</td>\n",
       "            <td>temp</td>\n",
       "            <td>-16.0</td>\n",
       "            <td>-26.67</td>\n",
       "        </tr>\n",
       "    </tbody>\n",
       "</table>"
      ],
      "text/plain": [
       "[(734, 'pb', 'temp', -21.5, -29.72),\n",
       " (735, None, 'temp', -26.0, -32.22),\n",
       " (751, 'pb', 'temp', -18.5, -28.06),\n",
       " (752, 'lake', 'temp', -16.0, -26.67)]"
      ]
     },
     "execution_count": 6,
     "metadata": {},
     "output_type": "execute_result"
    }
   ],
   "source": [
    "%%sql\n",
    "SELECT *, ROUND(5*(reading - 32)/9, 2) celsius\n",
    "FROM Survey\n",
    "WHERE quant = 'temp';"
   ]
  },
  {
   "cell_type": "markdown",
   "id": "d32eff48-dbad-4b36-931b-50f5a7b194f4",
   "metadata": {},
   "source": [
    "#### TODO\n",
    "Salinity should be reported as proportions, but it looks like they were put in as percentages. Write a new query that makes them proportions."
   ]
  },
  {
   "cell_type": "code",
   "execution_count": 8,
   "id": "b8ca7c39-72f8-42de-a196-203a0e988e47",
   "metadata": {},
   "outputs": [
    {
     "name": "stdout",
     "output_type": "stream",
     "text": [
      " * sqlite:///survey.db\n",
      "Done.\n"
     ]
    },
    {
     "data": {
      "text/html": [
       "<table>\n",
       "    <thead>\n",
       "        <tr>\n",
       "            <th>sal_pct</th>\n",
       "            <th>sal_prop</th>\n",
       "        </tr>\n",
       "    </thead>\n",
       "    <tbody>\n",
       "        <tr>\n",
       "            <td>0.13</td>\n",
       "            <td>0.0013</td>\n",
       "        </tr>\n",
       "        <tr>\n",
       "            <td>0.09</td>\n",
       "            <td>0.0009</td>\n",
       "        </tr>\n",
       "        <tr>\n",
       "            <td>0.05</td>\n",
       "            <td>0.0005</td>\n",
       "        </tr>\n",
       "        <tr>\n",
       "            <td>0.06</td>\n",
       "            <td>0.0006</td>\n",
       "        </tr>\n",
       "        <tr>\n",
       "            <td>0.1</td>\n",
       "            <td>0.001</td>\n",
       "        </tr>\n",
       "        <tr>\n",
       "            <td>0.09</td>\n",
       "            <td>0.0009</td>\n",
       "        </tr>\n",
       "        <tr>\n",
       "            <td>41.6</td>\n",
       "            <td>0.416</td>\n",
       "        </tr>\n",
       "        <tr>\n",
       "            <td>0.21</td>\n",
       "            <td>0.0021</td>\n",
       "        </tr>\n",
       "        <tr>\n",
       "            <td>22.5</td>\n",
       "            <td>0.225</td>\n",
       "        </tr>\n",
       "    </tbody>\n",
       "</table>"
      ],
      "text/plain": [
       "[(0.13, 0.0013),\n",
       " (0.09, 0.0009),\n",
       " (0.05, 0.0005),\n",
       " (0.06, 0.0006),\n",
       " (0.1, 0.001),\n",
       " (0.09, 0.0009),\n",
       " (41.6, 0.416),\n",
       " (0.21, 0.0021),\n",
       " (22.5, 0.225)]"
      ]
     },
     "execution_count": 8,
     "metadata": {},
     "output_type": "execute_result"
    }
   ],
   "source": [
    "%%sql\n",
    "SELECT reading sal_pct, ROUND(reading/100, 4) sal_prop\n",
    "FROM Survey WHERE quant = 'sal';"
   ]
  },
  {
   "cell_type": "code",
   "execution_count": null,
   "id": "6124826c-345c-4631-a7a5-5025e4636320",
   "metadata": {},
   "outputs": [],
   "source": []
  },
  {
   "cell_type": "markdown",
   "id": "49fe2dcc-43a2-41de-94e6-ca1b99ef8ec0",
   "metadata": {},
   "source": [
    "We might also want to **concatenate** values from multiple tables. For example, let's say we want the scientists' full names. \n",
    "\n",
    "#### TODO\n",
    "What data fields do we need for this?\n",
    "\n",
    "`personal` and `family` from `Person`.\n",
    "\n",
    "The concatenation operator looks like:\n",
    "\n",
    "```sql\n",
    "COLUMN1 || ' ' || COLUMN2\n",
    "```"
   ]
  },
  {
   "cell_type": "code",
   "execution_count": 7,
   "id": "8fb44439-756c-4e5c-a38d-605c6a20b7c9",
   "metadata": {},
   "outputs": [
    {
     "name": "stdout",
     "output_type": "stream",
     "text": [
      " * sqlite:///survey.db\n",
      "Done.\n"
     ]
    },
    {
     "data": {
      "text/html": [
       "<table>\n",
       "    <thead>\n",
       "        <tr>\n",
       "            <th>personal</th>\n",
       "            <th>family</th>\n",
       "            <th>personal || &#x27;&#x27; || family</th>\n",
       "            <th>family || &#x27;, &#x27; || personal</th>\n",
       "            <th>personal || &#x27;&#x27; || family || &#x27;, ID:&#x27; || id</th>\n",
       "        </tr>\n",
       "    </thead>\n",
       "    <tbody>\n",
       "        <tr>\n",
       "            <td>William</td>\n",
       "            <td>Dyer</td>\n",
       "            <td>WilliamDyer</td>\n",
       "            <td>Dyer, William</td>\n",
       "            <td>WilliamDyer, ID:dyer</td>\n",
       "        </tr>\n",
       "        <tr>\n",
       "            <td>Frank</td>\n",
       "            <td>Pabodie</td>\n",
       "            <td>FrankPabodie</td>\n",
       "            <td>Pabodie, Frank</td>\n",
       "            <td>FrankPabodie, ID:pb</td>\n",
       "        </tr>\n",
       "        <tr>\n",
       "            <td>Anderson</td>\n",
       "            <td>Lake</td>\n",
       "            <td>AndersonLake</td>\n",
       "            <td>Lake, Anderson</td>\n",
       "            <td>AndersonLake, ID:lake</td>\n",
       "        </tr>\n",
       "        <tr>\n",
       "            <td>Valentina</td>\n",
       "            <td>Roerich</td>\n",
       "            <td>ValentinaRoerich</td>\n",
       "            <td>Roerich, Valentina</td>\n",
       "            <td>ValentinaRoerich, ID:roe</td>\n",
       "        </tr>\n",
       "        <tr>\n",
       "            <td>Frank</td>\n",
       "            <td>Danforth</td>\n",
       "            <td>FrankDanforth</td>\n",
       "            <td>Danforth, Frank</td>\n",
       "            <td>FrankDanforth, ID:danforth</td>\n",
       "        </tr>\n",
       "    </tbody>\n",
       "</table>"
      ],
      "text/plain": [
       "[('William', 'Dyer', 'WilliamDyer', 'Dyer, William', 'WilliamDyer, ID:dyer'),\n",
       " ('Frank', 'Pabodie', 'FrankPabodie', 'Pabodie, Frank', 'FrankPabodie, ID:pb'),\n",
       " ('Anderson', 'Lake', 'AndersonLake', 'Lake, Anderson', 'AndersonLake, ID:lake'),\n",
       " ('Valentina', 'Roerich', 'ValentinaRoerich', 'Roerich, Valentina', 'ValentinaRoerich, ID:roe'),\n",
       " ('Frank', 'Danforth', 'FrankDanforth', 'Danforth, Frank', 'FrankDanforth, ID:danforth')]"
      ]
     },
     "execution_count": 7,
     "metadata": {},
     "output_type": "execute_result"
    }
   ],
   "source": [
    "%%sql\n",
    "SELECT personal, family, personal || '' || family \n",
    "\t, family || ', ' || personal \n",
    "    , personal || '' || family || ', ID:' || id\n",
    "FROM Person;"
   ]
  },
  {
   "cell_type": "code",
   "execution_count": null,
   "id": "44f164e3-c26a-4679-baab-2494f3e51a8d",
   "metadata": {},
   "outputs": [],
   "source": []
  },
  {
   "cell_type": "markdown",
   "id": "1c152925-2766-42b3-a16c-5fb0708047e4",
   "metadata": {},
   "source": [
    "## Set operations\n",
    "Venn diagram"
   ]
  },
  {
   "cell_type": "code",
   "execution_count": 15,
   "id": "b148b7e5-482d-4d17-b782-cc4c693e2caa",
   "metadata": {},
   "outputs": [
    {
     "name": "stdout",
     "output_type": "stream",
     "text": [
      " * sqlite:///survey.db\n",
      "Done.\n"
     ]
    },
    {
     "data": {
      "text/html": [
       "<table>\n",
       "    <thead>\n",
       "        <tr>\n",
       "            <th>id</th>\n",
       "            <th>personal</th>\n",
       "            <th>family</th>\n",
       "        </tr>\n",
       "    </thead>\n",
       "    <tbody>\n",
       "        <tr>\n",
       "            <td>dyer</td>\n",
       "            <td>William</td>\n",
       "            <td>Dyer</td>\n",
       "        </tr>\n",
       "        <tr>\n",
       "            <td>roe</td>\n",
       "            <td>Valentina</td>\n",
       "            <td>Roerich</td>\n",
       "        </tr>\n",
       "    </tbody>\n",
       "</table>"
      ],
      "text/plain": [
       "[('dyer', 'William', 'Dyer'), ('roe', 'Valentina', 'Roerich')]"
      ]
     },
     "execution_count": 15,
     "metadata": {},
     "output_type": "execute_result"
    }
   ],
   "source": [
    "%%sql\n",
    "SELECT * FROM Person WHERE id = 'dyer' \n",
    "UNION \n",
    "SELECT * FROM Person WHERE id = 'roe';\n"
   ]
  },
  {
   "cell_type": "markdown",
   "id": "4032482d-392c-49d3-8142-5f6e7231fab9",
   "metadata": {},
   "source": [
    "#### TODO\n",
    "What will each of the three queries below return?"
   ]
  },
  {
   "cell_type": "code",
   "execution_count": 20,
   "id": "9ee147c5-4bd5-4d4c-9620-bee1cabc4ad5",
   "metadata": {},
   "outputs": [
    {
     "name": "stdout",
     "output_type": "stream",
     "text": [
      " * sqlite:///survey.db\n",
      "Done.\n"
     ]
    },
    {
     "data": {
      "text/html": [
       "<table>\n",
       "    <thead>\n",
       "        <tr>\n",
       "            <th>person</th>\n",
       "            <th>quant</th>\n",
       "        </tr>\n",
       "    </thead>\n",
       "    <tbody>\n",
       "        <tr>\n",
       "            <td>dyer</td>\n",
       "            <td>rad</td>\n",
       "        </tr>\n",
       "        <tr>\n",
       "            <td>dyer</td>\n",
       "            <td>sal</td>\n",
       "        </tr>\n",
       "        <tr>\n",
       "            <td>lake</td>\n",
       "            <td>rad</td>\n",
       "        </tr>\n",
       "        <tr>\n",
       "            <td>pb</td>\n",
       "            <td>rad</td>\n",
       "        </tr>\n",
       "        <tr>\n",
       "            <td>roe</td>\n",
       "            <td>rad</td>\n",
       "        </tr>\n",
       "    </tbody>\n",
       "</table>"
      ],
      "text/plain": [
       "[('dyer', 'rad'),\n",
       " ('dyer', 'sal'),\n",
       " ('lake', 'rad'),\n",
       " ('pb', 'rad'),\n",
       " ('roe', 'rad')]"
      ]
     },
     "execution_count": 20,
     "metadata": {},
     "output_type": "execute_result"
    }
   ],
   "source": [
    "%%sql\n",
    "SELECT person, quant FROM Survey WHERE person = 'dyer'\n",
    "UNION\n",
    "SELECT person, quant FROM Survey WHERE quant = 'rad'"
   ]
  },
  {
   "cell_type": "code",
   "execution_count": 21,
   "id": "edeac34f-da4d-4869-abe7-afa78b5b9e3f",
   "metadata": {},
   "outputs": [
    {
     "name": "stdout",
     "output_type": "stream",
     "text": [
      " * sqlite:///survey.db\n",
      "Done.\n"
     ]
    },
    {
     "data": {
      "text/html": [
       "<table>\n",
       "    <thead>\n",
       "        <tr>\n",
       "            <th>person</th>\n",
       "            <th>quant</th>\n",
       "        </tr>\n",
       "    </thead>\n",
       "    <tbody>\n",
       "        <tr>\n",
       "            <td>dyer</td>\n",
       "            <td>rad</td>\n",
       "        </tr>\n",
       "    </tbody>\n",
       "</table>"
      ],
      "text/plain": [
       "[('dyer', 'rad')]"
      ]
     },
     "execution_count": 21,
     "metadata": {},
     "output_type": "execute_result"
    }
   ],
   "source": [
    "%%sql\n",
    "SELECT person, quant FROM Survey WHERE person = 'dyer'\n",
    "INTERSECT\n",
    "SELECT person, quant FROM Survey WHERE quant = 'rad'"
   ]
  },
  {
   "cell_type": "code",
   "execution_count": 22,
   "id": "5395d5bd-ccec-4b65-8801-cd5baca3d539",
   "metadata": {},
   "outputs": [
    {
     "name": "stdout",
     "output_type": "stream",
     "text": [
      " * sqlite:///survey.db\n",
      "Done.\n"
     ]
    },
    {
     "data": {
      "text/html": [
       "<table>\n",
       "    <thead>\n",
       "        <tr>\n",
       "            <th>person</th>\n",
       "            <th>quant</th>\n",
       "        </tr>\n",
       "    </thead>\n",
       "    <tbody>\n",
       "        <tr>\n",
       "            <td>dyer</td>\n",
       "            <td>sal</td>\n",
       "        </tr>\n",
       "    </tbody>\n",
       "</table>"
      ],
      "text/plain": [
       "[('dyer', 'sal')]"
      ]
     },
     "execution_count": 22,
     "metadata": {},
     "output_type": "execute_result"
    }
   ],
   "source": [
    "%%sql\n",
    "SELECT person, quant FROM Survey WHERE person = 'dyer'\n",
    "EXCEPT\n",
    "SELECT person, quant FROM Survey WHERE quant = 'rad'"
   ]
  },
  {
   "cell_type": "markdown",
   "id": "d874344b-9db1-48a7-a649-9e55d84ba397",
   "metadata": {},
   "source": [
    "`UNION` takes unique values, but `UNION ALL` will not eliminate duplicate rows."
   ]
  },
  {
   "cell_type": "markdown",
   "id": "67d2316e-3e85-4140-89f5-408b7cf21bd2",
   "metadata": {},
   "source": [
    "#### TODO\n",
    "What will be the difference between these two queries? Which do you think is faster? What's another way to write both of these queries?"
   ]
  },
  {
   "cell_type": "code",
   "execution_count": 18,
   "id": "bb63f0fe-c9bd-4dde-ba0a-be9ebbd52cd3",
   "metadata": {},
   "outputs": [
    {
     "name": "stdout",
     "output_type": "stream",
     "text": [
      " * sqlite:///survey.db\n",
      "Done.\n"
     ]
    },
    {
     "data": {
      "text/html": [
       "<table>\n",
       "    <thead>\n",
       "        <tr>\n",
       "            <th>person</th>\n",
       "            <th>quant</th>\n",
       "        </tr>\n",
       "    </thead>\n",
       "    <tbody>\n",
       "        <tr>\n",
       "            <td>dyer</td>\n",
       "            <td>rad</td>\n",
       "        </tr>\n",
       "        <tr>\n",
       "            <td>dyer</td>\n",
       "            <td>sal</td>\n",
       "        </tr>\n",
       "        <tr>\n",
       "            <td>lake</td>\n",
       "            <td>rad</td>\n",
       "        </tr>\n",
       "        <tr>\n",
       "            <td>pb</td>\n",
       "            <td>rad</td>\n",
       "        </tr>\n",
       "        <tr>\n",
       "            <td>roe</td>\n",
       "            <td>rad</td>\n",
       "        </tr>\n",
       "    </tbody>\n",
       "</table>"
      ],
      "text/plain": [
       "[('dyer', 'rad'),\n",
       " ('dyer', 'sal'),\n",
       " ('lake', 'rad'),\n",
       " ('pb', 'rad'),\n",
       " ('roe', 'rad')]"
      ]
     },
     "execution_count": 18,
     "metadata": {},
     "output_type": "execute_result"
    }
   ],
   "source": [
    "%%sql\n",
    "SELECT person, quant FROM Survey WHERE person = 'dyer'\n",
    "UNION\n",
    "SELECT person, quant FROM Survey WHERE quant = 'rad'"
   ]
  },
  {
   "cell_type": "code",
   "execution_count": 19,
   "id": "0427875e-b4d4-4d92-bf48-32a9987ddaff",
   "metadata": {},
   "outputs": [
    {
     "name": "stdout",
     "output_type": "stream",
     "text": [
      " * sqlite:///survey.db\n",
      "Done.\n"
     ]
    },
    {
     "data": {
      "text/html": [
       "<table>\n",
       "    <thead>\n",
       "        <tr>\n",
       "            <th>person</th>\n",
       "            <th>quant</th>\n",
       "        </tr>\n",
       "    </thead>\n",
       "    <tbody>\n",
       "        <tr>\n",
       "            <td>dyer</td>\n",
       "            <td>rad</td>\n",
       "        </tr>\n",
       "        <tr>\n",
       "            <td>dyer</td>\n",
       "            <td>sal</td>\n",
       "        </tr>\n",
       "        <tr>\n",
       "            <td>dyer</td>\n",
       "            <td>rad</td>\n",
       "        </tr>\n",
       "        <tr>\n",
       "            <td>dyer</td>\n",
       "            <td>sal</td>\n",
       "        </tr>\n",
       "        <tr>\n",
       "            <td>dyer</td>\n",
       "            <td>rad</td>\n",
       "        </tr>\n",
       "        <tr>\n",
       "            <td>dyer</td>\n",
       "            <td>rad</td>\n",
       "        </tr>\n",
       "        <tr>\n",
       "            <td>pb</td>\n",
       "            <td>rad</td>\n",
       "        </tr>\n",
       "        <tr>\n",
       "            <td>pb</td>\n",
       "            <td>rad</td>\n",
       "        </tr>\n",
       "        <tr>\n",
       "            <td>pb</td>\n",
       "            <td>rad</td>\n",
       "        </tr>\n",
       "        <tr>\n",
       "            <td>lake</td>\n",
       "            <td>rad</td>\n",
       "        </tr>\n",
       "        <tr>\n",
       "            <td>lake</td>\n",
       "            <td>rad</td>\n",
       "        </tr>\n",
       "        <tr>\n",
       "            <td>roe</td>\n",
       "            <td>rad</td>\n",
       "        </tr>\n",
       "    </tbody>\n",
       "</table>"
      ],
      "text/plain": [
       "[('dyer', 'rad'),\n",
       " ('dyer', 'sal'),\n",
       " ('dyer', 'rad'),\n",
       " ('dyer', 'sal'),\n",
       " ('dyer', 'rad'),\n",
       " ('dyer', 'rad'),\n",
       " ('pb', 'rad'),\n",
       " ('pb', 'rad'),\n",
       " ('pb', 'rad'),\n",
       " ('lake', 'rad'),\n",
       " ('lake', 'rad'),\n",
       " ('roe', 'rad')]"
      ]
     },
     "execution_count": 19,
     "metadata": {},
     "output_type": "execute_result"
    }
   ],
   "source": [
    "%%sql\n",
    "SELECT person, quant FROM Survey WHERE person = 'dyer'\n",
    "UNION ALL\n",
    "SELECT person, quant FROM Survey WHERE quant = 'rad'"
   ]
  },
  {
   "cell_type": "markdown",
   "id": "a0d5fa32-c204-4049-97e9-5e029b3477c9",
   "metadata": {},
   "source": [
    "#### TODO\n",
    "Use UNION to create a consolidated list of salinity measurements in which Valentina Roerich’s, and only Valentina’s, have been corrected as described in the previous challenge."
   ]
  },
  {
   "cell_type": "code",
   "execution_count": 24,
   "id": "3cc54996-a66a-41d7-b4ff-b786a6db98ef",
   "metadata": {},
   "outputs": [
    {
     "name": "stdout",
     "output_type": "stream",
     "text": [
      " * sqlite:///survey.db\n",
      "Done.\n"
     ]
    },
    {
     "data": {
      "text/html": [
       "<table>\n",
       "    <thead>\n",
       "        <tr>\n",
       "            <th>person</th>\n",
       "            <th>taken</th>\n",
       "            <th>reading</th>\n",
       "            <th>reading_1</th>\n",
       "        </tr>\n",
       "    </thead>\n",
       "    <tbody>\n",
       "        <tr>\n",
       "            <td>dyer</td>\n",
       "            <td>619</td>\n",
       "            <td>0.13</td>\n",
       "            <td>0.13</td>\n",
       "        </tr>\n",
       "        <tr>\n",
       "            <td>dyer</td>\n",
       "            <td>622</td>\n",
       "            <td>0.09</td>\n",
       "            <td>0.09</td>\n",
       "        </tr>\n",
       "        <tr>\n",
       "            <td>lake</td>\n",
       "            <td>734</td>\n",
       "            <td>0.05</td>\n",
       "            <td>0.05</td>\n",
       "        </tr>\n",
       "        <tr>\n",
       "            <td>lake</td>\n",
       "            <td>751</td>\n",
       "            <td>0.1</td>\n",
       "            <td>0.1</td>\n",
       "        </tr>\n",
       "        <tr>\n",
       "            <td>lake</td>\n",
       "            <td>752</td>\n",
       "            <td>0.09</td>\n",
       "            <td>0.09</td>\n",
       "        </tr>\n",
       "        <tr>\n",
       "            <td>lake</td>\n",
       "            <td>837</td>\n",
       "            <td>0.21</td>\n",
       "            <td>0.21</td>\n",
       "        </tr>\n",
       "        <tr>\n",
       "            <td>roe</td>\n",
       "            <td>752</td>\n",
       "            <td>41.6</td>\n",
       "            <td>0.41600000000000004</td>\n",
       "        </tr>\n",
       "        <tr>\n",
       "            <td>roe</td>\n",
       "            <td>837</td>\n",
       "            <td>22.5</td>\n",
       "            <td>0.225</td>\n",
       "        </tr>\n",
       "    </tbody>\n",
       "</table>"
      ],
      "text/plain": [
       "[('dyer', 619, 0.13, 0.13),\n",
       " ('dyer', 622, 0.09, 0.09),\n",
       " ('lake', 734, 0.05, 0.05),\n",
       " ('lake', 751, 0.1, 0.1),\n",
       " ('lake', 752, 0.09, 0.09),\n",
       " ('lake', 837, 0.21, 0.21),\n",
       " ('roe', 752, 41.6, 0.41600000000000004),\n",
       " ('roe', 837, 22.5, 0.225)]"
      ]
     },
     "execution_count": 24,
     "metadata": {},
     "output_type": "execute_result"
    }
   ],
   "source": [
    "%%sql\n",
    "SELECT person, taken, reading, reading AS reading FROM Survey where QUANT = 'sal' AND person != 'roe'\n",
    "UNION \n",
    "SELECT person, taken, reading, reading/100 AS reading FROM Survey where QUANT = 'sal' AND person = 'roe'\n",
    ";"
   ]
  },
  {
   "cell_type": "code",
   "execution_count": null,
   "id": "0f1e401d-84e9-41d6-8271-0340aa3f9df6",
   "metadata": {},
   "outputs": [],
   "source": []
  },
  {
   "cell_type": "markdown",
   "id": "982cc54b-f436-4983-98a9-ec3c77e1de50",
   "metadata": {},
   "source": [
    "## Working with strings\n",
    "The `instr(X, Y)` function takes two strings as arguments and tells us whether `X` contains `Y`. It will return either:\n",
    "- The starting index of `Y` in `X`\n",
    "- 0 if it isn't there\n",
    "\n",
    "So for example we could find whether/where an `l` occurs in each of the first names:"
   ]
  },
  {
   "cell_type": "code",
   "execution_count": 25,
   "id": "58d13624-190d-4894-85f9-432784a3942e",
   "metadata": {},
   "outputs": [
    {
     "name": "stdout",
     "output_type": "stream",
     "text": [
      " * sqlite:///survey.db\n",
      "Done.\n"
     ]
    },
    {
     "data": {
      "text/html": [
       "<table>\n",
       "    <thead>\n",
       "        <tr>\n",
       "            <th>personal</th>\n",
       "            <th>instr(personal, &#x27;l&#x27;)</th>\n",
       "        </tr>\n",
       "    </thead>\n",
       "    <tbody>\n",
       "        <tr>\n",
       "            <td>William</td>\n",
       "            <td>3</td>\n",
       "        </tr>\n",
       "        <tr>\n",
       "            <td>Frank</td>\n",
       "            <td>0</td>\n",
       "        </tr>\n",
       "        <tr>\n",
       "            <td>Anderson</td>\n",
       "            <td>0</td>\n",
       "        </tr>\n",
       "        <tr>\n",
       "            <td>Valentina</td>\n",
       "            <td>3</td>\n",
       "        </tr>\n",
       "        <tr>\n",
       "            <td>Frank</td>\n",
       "            <td>0</td>\n",
       "        </tr>\n",
       "    </tbody>\n",
       "</table>"
      ],
      "text/plain": [
       "[('William', 3), ('Frank', 0), ('Anderson', 0), ('Valentina', 3), ('Frank', 0)]"
      ]
     },
     "execution_count": 25,
     "metadata": {},
     "output_type": "execute_result"
    }
   ],
   "source": [
    "%%sql\n",
    "SELECT personal, instr(personal, 'l') FROM Person;"
   ]
  },
  {
   "cell_type": "markdown",
   "id": "f52de81c-99ac-4738-80f3-b0df4aaef70e",
   "metadata": {},
   "source": [
    "#### TODO\n",
    "How would we filter to rows that have a last name with the letter `e` in them??"
   ]
  },
  {
   "cell_type": "code",
   "execution_count": 31,
   "id": "e6951acd-baac-43e9-a282-c9a2f69c08c3",
   "metadata": {},
   "outputs": [
    {
     "name": "stdout",
     "output_type": "stream",
     "text": [
      " * sqlite:///survey.db\n",
      "Done.\n"
     ]
    },
    {
     "data": {
      "text/html": [
       "<table>\n",
       "    <thead>\n",
       "        <tr>\n",
       "            <th>personal</th>\n",
       "        </tr>\n",
       "    </thead>\n",
       "    <tbody>\n",
       "        <tr>\n",
       "            <td>Anderson</td>\n",
       "        </tr>\n",
       "        <tr>\n",
       "            <td>Valentina</td>\n",
       "        </tr>\n",
       "    </tbody>\n",
       "</table>"
      ],
      "text/plain": [
       "[('Anderson',), ('Valentina',)]"
      ]
     },
     "execution_count": 31,
     "metadata": {},
     "output_type": "execute_result"
    }
   ],
   "source": [
    "%%sql\n",
    "SELECT personal FROM Person WHERE instr(personal, 'e') >0 ;"
   ]
  },
  {
   "cell_type": "code",
   "execution_count": null,
   "id": "2dc01e47-9b91-4816-a42b-eda5e56dc577",
   "metadata": {},
   "outputs": [],
   "source": []
  },
  {
   "cell_type": "markdown",
   "id": "f636abac-4131-446e-a661-3d735fa10f5a",
   "metadata": {},
   "source": [
    "Another related function is called `substr(X, I, [L])`, which takes a string `X`, a starting integer `I`, and an optional number of letters `L`. For example, the query below will return first names starting at the fifth letter:"
   ]
  },
  {
   "cell_type": "code",
   "execution_count": 29,
   "id": "87d6fb4e-49f0-4eba-8cff-2aa2b39646b4",
   "metadata": {},
   "outputs": [
    {
     "name": "stdout",
     "output_type": "stream",
     "text": [
      " * sqlite:///survey.db\n",
      "Done.\n"
     ]
    },
    {
     "data": {
      "text/html": [
       "<table>\n",
       "    <thead>\n",
       "        <tr>\n",
       "            <th>substr(personal, 5)</th>\n",
       "        </tr>\n",
       "    </thead>\n",
       "    <tbody>\n",
       "        <tr>\n",
       "            <td>iam</td>\n",
       "        </tr>\n",
       "        <tr>\n",
       "            <td>k</td>\n",
       "        </tr>\n",
       "        <tr>\n",
       "            <td>rson</td>\n",
       "        </tr>\n",
       "        <tr>\n",
       "            <td>ntina</td>\n",
       "        </tr>\n",
       "        <tr>\n",
       "            <td>k</td>\n",
       "        </tr>\n",
       "    </tbody>\n",
       "</table>"
      ],
      "text/plain": [
       "[('iam',), ('k',), ('rson',), ('ntina',), ('k',)]"
      ]
     },
     "execution_count": 29,
     "metadata": {},
     "output_type": "execute_result"
    }
   ],
   "source": [
    "%%sql\n",
    "SELECT substr(personal, 5) FROM Person;"
   ]
  },
  {
   "cell_type": "markdown",
   "id": "5964c159-b1a8-455f-b645-eb1ec19e63c8",
   "metadata": {},
   "source": [
    "#### TODO\n",
    "How would we get the fifth letter *and only* the fifth letter?"
   ]
  },
  {
   "cell_type": "code",
   "execution_count": 30,
   "id": "89154a5f-80a4-4172-8236-521bfa742ef4",
   "metadata": {},
   "outputs": [
    {
     "name": "stdout",
     "output_type": "stream",
     "text": [
      " * sqlite:///survey.db\n",
      "Done.\n"
     ]
    },
    {
     "data": {
      "text/html": [
       "<table>\n",
       "    <thead>\n",
       "        <tr>\n",
       "            <th>substr(personal, 5, 1)</th>\n",
       "        </tr>\n",
       "    </thead>\n",
       "    <tbody>\n",
       "        <tr>\n",
       "            <td>i</td>\n",
       "        </tr>\n",
       "        <tr>\n",
       "            <td>k</td>\n",
       "        </tr>\n",
       "        <tr>\n",
       "            <td>r</td>\n",
       "        </tr>\n",
       "        <tr>\n",
       "            <td>n</td>\n",
       "        </tr>\n",
       "        <tr>\n",
       "            <td>k</td>\n",
       "        </tr>\n",
       "    </tbody>\n",
       "</table>"
      ],
      "text/plain": [
       "[('i',), ('k',), ('r',), ('n',), ('k',)]"
      ]
     },
     "execution_count": 30,
     "metadata": {},
     "output_type": "execute_result"
    }
   ],
   "source": [
    "%%sql\n",
    "SELECT substr(personal, 5, 1) FROM Person;"
   ]
  },
  {
   "cell_type": "markdown",
   "id": "0d0f00a5-5f76-409d-9c2b-3a643f495a91",
   "metadata": {},
   "source": [
    "#### TODO\n",
    "How would we get the first names with a letter `e` starting at the letter `e`?"
   ]
  },
  {
   "cell_type": "code",
   "execution_count": 37,
   "id": "154618e3-b888-4907-bcfe-3e11b6b39f2c",
   "metadata": {},
   "outputs": [
    {
     "name": "stdout",
     "output_type": "stream",
     "text": [
      " * sqlite:///survey.db\n",
      "Done.\n"
     ]
    },
    {
     "data": {
      "text/html": [
       "<table>\n",
       "    <thead>\n",
       "        <tr>\n",
       "            <th>personal</th>\n",
       "            <th>substr(personal, instr(personal, &#x27;e&#x27;)+1)</th>\n",
       "        </tr>\n",
       "    </thead>\n",
       "    <tbody>\n",
       "        <tr>\n",
       "            <td>Anderson</td>\n",
       "            <td>rson</td>\n",
       "        </tr>\n",
       "        <tr>\n",
       "            <td>Valentina</td>\n",
       "            <td>ntina</td>\n",
       "        </tr>\n",
       "    </tbody>\n",
       "</table>"
      ],
      "text/plain": [
       "[('Anderson', 'rson'), ('Valentina', 'ntina')]"
      ]
     },
     "execution_count": 37,
     "metadata": {},
     "output_type": "execute_result"
    }
   ],
   "source": [
    "%%sql\n",
    "SELECT personal, substr(personal, instr(personal, 'e')+1) FROM Person WHERE instr(personal, 'e') >0 ;"
   ]
  },
  {
   "cell_type": "code",
   "execution_count": null,
   "id": "dddc5d81-873e-41f7-a76d-e942746817e4",
   "metadata": {},
   "outputs": [],
   "source": []
  },
  {
   "cell_type": "markdown",
   "id": "d28f7105-8fd5-4ea9-aee1-588ed55bf3a4",
   "metadata": {},
   "source": [
    "#### TODO\n",
    "Look at the list of sites in `Visited`. Let's get rid of the dashes in the site names."
   ]
  },
  {
   "cell_type": "code",
   "execution_count": 49,
   "id": "33e5e22a-0f96-4f0a-a220-e7f710b028ed",
   "metadata": {},
   "outputs": [
    {
     "name": "stdout",
     "output_type": "stream",
     "text": [
      " * sqlite:///survey.db\n",
      "Done.\n"
     ]
    },
    {
     "data": {
      "text/html": [
       "<table>\n",
       "    <thead>\n",
       "        <tr>\n",
       "            <th>site</th>\n",
       "            <th>site2</th>\n",
       "        </tr>\n",
       "    </thead>\n",
       "    <tbody>\n",
       "        <tr>\n",
       "            <td>DR-1</td>\n",
       "            <td>DR1</td>\n",
       "        </tr>\n",
       "        <tr>\n",
       "            <td>DR-1</td>\n",
       "            <td>DR1</td>\n",
       "        </tr>\n",
       "        <tr>\n",
       "            <td>DR-3</td>\n",
       "            <td>DR3</td>\n",
       "        </tr>\n",
       "        <tr>\n",
       "            <td>DR-3</td>\n",
       "            <td>DR3</td>\n",
       "        </tr>\n",
       "        <tr>\n",
       "            <td>DR-3</td>\n",
       "            <td>DR3</td>\n",
       "        </tr>\n",
       "        <tr>\n",
       "            <td>DR-3</td>\n",
       "            <td>DR3</td>\n",
       "        </tr>\n",
       "        <tr>\n",
       "            <td>MSK-4</td>\n",
       "            <td>MSK4</td>\n",
       "        </tr>\n",
       "        <tr>\n",
       "            <td>DR-1</td>\n",
       "            <td>DR1</td>\n",
       "        </tr>\n",
       "    </tbody>\n",
       "</table>"
      ],
      "text/plain": [
       "[('DR-1', 'DR1'),\n",
       " ('DR-1', 'DR1'),\n",
       " ('DR-3', 'DR3'),\n",
       " ('DR-3', 'DR3'),\n",
       " ('DR-3', 'DR3'),\n",
       " ('DR-3', 'DR3'),\n",
       " ('MSK-4', 'MSK4'),\n",
       " ('DR-1', 'DR1')]"
      ]
     },
     "execution_count": 49,
     "metadata": {},
     "output_type": "execute_result"
    }
   ],
   "source": [
    "%%sql\n",
    "SELECT\n",
    "    site \n",
    "    ,substr(site, 1, instr(site, '-')-1) || substr(site, instr(site, '-')+1) site2\n",
    "FROM Visited \n"
   ]
  },
  {
   "cell_type": "code",
   "execution_count": null,
   "id": "2d695f70-ddfb-4da3-8e5c-7b63d9ec9252",
   "metadata": {},
   "outputs": [],
   "source": []
  }
 ],
 "metadata": {
  "kernelspec": {
   "display_name": "Python 3 (ipykernel)",
   "language": "python",
   "name": "python3"
  },
  "language_info": {
   "codemirror_mode": {
    "name": "ipython",
    "version": 3
   },
   "file_extension": ".py",
   "mimetype": "text/x-python",
   "name": "python",
   "nbconvert_exporter": "python",
   "pygments_lexer": "ipython3",
   "version": "3.11.5"
  }
 },
 "nbformat": 4,
 "nbformat_minor": 5
}

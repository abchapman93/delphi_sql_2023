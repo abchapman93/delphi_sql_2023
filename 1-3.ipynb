{
 "cells": [
  {
   "cell_type": "code",
   "execution_count": 1,
   "id": "49f19295-363e-43b5-b394-ec0c82bbd189",
   "metadata": {},
   "outputs": [],
   "source": [
    "%load_ext sql"
   ]
  },
  {
   "cell_type": "code",
   "execution_count": 2,
   "id": "6fc1eb7f-024b-4e93-ad09-186ea5632a00",
   "metadata": {},
   "outputs": [],
   "source": [
    "%sql sqlite://"
   ]
  },
  {
   "cell_type": "markdown",
   "id": "d1d2f9dd-0f98-47cf-96a4-460783ca7818",
   "metadata": {},
   "source": [
    "# 1.\n",
    "The data for this workshop is stored in the `survey.db` file. This dataset was collected during expeditions to the South Pole in the 1920's. "
   ]
  },
  {
   "cell_type": "code",
   "execution_count": 3,
   "id": "eca7cc10-2781-4c10-b752-1a9a7d6c3764",
   "metadata": {},
   "outputs": [],
   "source": [
    "%sql sqlite:///survey.db"
   ]
  },
  {
   "cell_type": "markdown",
   "id": "9a4f66f6-a84a-4324-9269-926f38be3acc",
   "metadata": {},
   "source": [
    "First, let's write a query that will return the scientists' names.\n",
    "\n",
    "```sql\n",
    "SELECT column1, column2\n",
    "FROM TABLE\n",
    "```\n",
    "\n",
    "So the query below will return the scientist's *family* (last) and *personal* (first) names:"
   ]
  },
  {
   "cell_type": "code",
   "execution_count": 4,
   "id": "f09fdd67-5b3c-47a6-8664-9dd9cf796c0c",
   "metadata": {},
   "outputs": [
    {
     "name": "stdout",
     "output_type": "stream",
     "text": [
      "   sqlite://\n",
      " * sqlite:///survey.db\n",
      "Done.\n"
     ]
    },
    {
     "data": {
      "text/html": [
       "<table>\n",
       "    <thead>\n",
       "        <tr>\n",
       "            <th>id</th>\n",
       "            <th>personal</th>\n",
       "            <th>family</th>\n",
       "        </tr>\n",
       "    </thead>\n",
       "    <tbody>\n",
       "        <tr>\n",
       "            <td>roe</td>\n",
       "            <td>Valentina</td>\n",
       "            <td>Roerich</td>\n",
       "        </tr>\n",
       "        <tr>\n",
       "            <td>pb</td>\n",
       "            <td>Frank</td>\n",
       "            <td>Pabodie</td>\n",
       "        </tr>\n",
       "        <tr>\n",
       "            <td>lake</td>\n",
       "            <td>Anderson</td>\n",
       "            <td>Lake</td>\n",
       "        </tr>\n",
       "        <tr>\n",
       "            <td>dyer</td>\n",
       "            <td>William</td>\n",
       "            <td>Dyer</td>\n",
       "        </tr>\n",
       "        <tr>\n",
       "            <td>danforth</td>\n",
       "            <td>Frank</td>\n",
       "            <td>Danforth</td>\n",
       "        </tr>\n",
       "    </tbody>\n",
       "</table>"
      ],
      "text/plain": [
       "[('roe', 'Valentina', 'Roerich'),\n",
       " ('pb', 'Frank', 'Pabodie'),\n",
       " ('lake', 'Anderson', 'Lake'),\n",
       " ('dyer', 'William', 'Dyer'),\n",
       " ('danforth', 'Frank', 'Danforth')]"
      ]
     },
     "execution_count": 4,
     "metadata": {},
     "output_type": "execute_result"
    }
   ],
   "source": [
    "%%sql\n",
    "SELECT * FROM person ORDER BY id DESC;\n"
   ]
  },
  {
   "cell_type": "markdown",
   "id": "5966b208-b777-4e3f-b2d1-19c5f4e28928",
   "metadata": {},
   "source": [
    "SQL syntax is not case-sensitive, so this query is identical to the previous one:"
   ]
  },
  {
   "cell_type": "code",
   "execution_count": 7,
   "id": "6ee30c42-0265-42b2-a41a-e674de4e83da",
   "metadata": {},
   "outputs": [
    {
     "name": "stdout",
     "output_type": "stream",
     "text": [
      "   sqlite://\n",
      " * sqlite:///survey.db\n",
      "Done.\n"
     ]
    },
    {
     "data": {
      "text/html": [
       "<table>\n",
       "    <thead>\n",
       "        <tr>\n",
       "            <th>family</th>\n",
       "            <th>personal</th>\n",
       "        </tr>\n",
       "    </thead>\n",
       "    <tbody>\n",
       "        <tr>\n",
       "            <td>Dyer</td>\n",
       "            <td>William</td>\n",
       "        </tr>\n",
       "        <tr>\n",
       "            <td>Pabodie</td>\n",
       "            <td>Frank</td>\n",
       "        </tr>\n",
       "        <tr>\n",
       "            <td>Lake</td>\n",
       "            <td>Anderson</td>\n",
       "        </tr>\n",
       "        <tr>\n",
       "            <td>Roerich</td>\n",
       "            <td>Valentina</td>\n",
       "        </tr>\n",
       "        <tr>\n",
       "            <td>Danforth</td>\n",
       "            <td>Frank</td>\n",
       "        </tr>\n",
       "    </tbody>\n",
       "</table>"
      ],
      "text/plain": [
       "[('Dyer', 'William'),\n",
       " ('Pabodie', 'Frank'),\n",
       " ('Lake', 'Anderson'),\n",
       " ('Roerich', 'Valentina'),\n",
       " ('Danforth', 'Frank')]"
      ]
     },
     "execution_count": 7,
     "metadata": {},
     "output_type": "execute_result"
    }
   ],
   "source": [
    "%%sql\n",
    "SeLeCt FaMiLy, PeRsOnAl FrOm PeRsOn;"
   ]
  },
  {
   "cell_type": "markdown",
   "id": "7acbd354-c853-4494-9836-218ebb654565",
   "metadata": {},
   "source": [
    "Different people will have different preferences on how to capitalize SQL queries. Personally, I like to use the convention of having upper case for SQL keywords (like `SELECT` and `FROM`).\n",
    "\n",
    "We can also select columns in a different order, select the columns on multiple lines, etc."
   ]
  },
  {
   "cell_type": "markdown",
   "id": "32b4a131-c5db-46e7-b6b6-b1f57a4bdb14",
   "metadata": {},
   "source": [
    "#### TODO \n",
    "Write a query that returns the `person`, `quant`, and `reading` columns from the `Survey` table."
   ]
  },
  {
   "cell_type": "code",
   "execution_count": 10,
   "id": "0de1624a-3599-4f7f-b639-fa04b2420363",
   "metadata": {},
   "outputs": [
    {
     "name": "stdout",
     "output_type": "stream",
     "text": [
      "   sqlite://\n",
      " * sqlite:///survey.db\n",
      "Done.\n"
     ]
    },
    {
     "data": {
      "text/html": [
       "<table>\n",
       "    <thead>\n",
       "        <tr>\n",
       "            <th>person</th>\n",
       "            <th>quant</th>\n",
       "            <th>reading</th>\n",
       "        </tr>\n",
       "    </thead>\n",
       "    <tbody>\n",
       "        <tr>\n",
       "            <td>dyer</td>\n",
       "            <td>rad</td>\n",
       "            <td>9.82</td>\n",
       "        </tr>\n",
       "        <tr>\n",
       "            <td>dyer</td>\n",
       "            <td>sal</td>\n",
       "            <td>0.13</td>\n",
       "        </tr>\n",
       "        <tr>\n",
       "            <td>dyer</td>\n",
       "            <td>rad</td>\n",
       "            <td>7.8</td>\n",
       "        </tr>\n",
       "        <tr>\n",
       "            <td>dyer</td>\n",
       "            <td>sal</td>\n",
       "            <td>0.09</td>\n",
       "        </tr>\n",
       "        <tr>\n",
       "            <td>pb</td>\n",
       "            <td>rad</td>\n",
       "            <td>8.41</td>\n",
       "        </tr>\n",
       "        <tr>\n",
       "            <td>lake</td>\n",
       "            <td>sal</td>\n",
       "            <td>0.05</td>\n",
       "        </tr>\n",
       "        <tr>\n",
       "            <td>pb</td>\n",
       "            <td>temp</td>\n",
       "            <td>-21.5</td>\n",
       "        </tr>\n",
       "        <tr>\n",
       "            <td>pb</td>\n",
       "            <td>rad</td>\n",
       "            <td>7.22</td>\n",
       "        </tr>\n",
       "        <tr>\n",
       "            <td>None</td>\n",
       "            <td>sal</td>\n",
       "            <td>0.06</td>\n",
       "        </tr>\n",
       "        <tr>\n",
       "            <td>None</td>\n",
       "            <td>temp</td>\n",
       "            <td>-26.0</td>\n",
       "        </tr>\n",
       "        <tr>\n",
       "            <td>pb</td>\n",
       "            <td>rad</td>\n",
       "            <td>4.35</td>\n",
       "        </tr>\n",
       "        <tr>\n",
       "            <td>pb</td>\n",
       "            <td>temp</td>\n",
       "            <td>-18.5</td>\n",
       "        </tr>\n",
       "        <tr>\n",
       "            <td>lake</td>\n",
       "            <td>sal</td>\n",
       "            <td>0.1</td>\n",
       "        </tr>\n",
       "        <tr>\n",
       "            <td>lake</td>\n",
       "            <td>rad</td>\n",
       "            <td>2.19</td>\n",
       "        </tr>\n",
       "        <tr>\n",
       "            <td>lake</td>\n",
       "            <td>sal</td>\n",
       "            <td>0.09</td>\n",
       "        </tr>\n",
       "        <tr>\n",
       "            <td>lake</td>\n",
       "            <td>temp</td>\n",
       "            <td>-16.0</td>\n",
       "        </tr>\n",
       "        <tr>\n",
       "            <td>roe</td>\n",
       "            <td>sal</td>\n",
       "            <td>41.6</td>\n",
       "        </tr>\n",
       "        <tr>\n",
       "            <td>lake</td>\n",
       "            <td>rad</td>\n",
       "            <td>1.46</td>\n",
       "        </tr>\n",
       "        <tr>\n",
       "            <td>lake</td>\n",
       "            <td>sal</td>\n",
       "            <td>0.21</td>\n",
       "        </tr>\n",
       "        <tr>\n",
       "            <td>roe</td>\n",
       "            <td>sal</td>\n",
       "            <td>22.5</td>\n",
       "        </tr>\n",
       "        <tr>\n",
       "            <td>roe</td>\n",
       "            <td>rad</td>\n",
       "            <td>11.25</td>\n",
       "        </tr>\n",
       "    </tbody>\n",
       "</table>"
      ],
      "text/plain": [
       "[('dyer', 'rad', 9.82),\n",
       " ('dyer', 'sal', 0.13),\n",
       " ('dyer', 'rad', 7.8),\n",
       " ('dyer', 'sal', 0.09),\n",
       " ('pb', 'rad', 8.41),\n",
       " ('lake', 'sal', 0.05),\n",
       " ('pb', 'temp', -21.5),\n",
       " ('pb', 'rad', 7.22),\n",
       " (None, 'sal', 0.06),\n",
       " (None, 'temp', -26.0),\n",
       " ('pb', 'rad', 4.35),\n",
       " ('pb', 'temp', -18.5),\n",
       " ('lake', 'sal', 0.1),\n",
       " ('lake', 'rad', 2.19),\n",
       " ('lake', 'sal', 0.09),\n",
       " ('lake', 'temp', -16.0),\n",
       " ('roe', 'sal', 41.6),\n",
       " ('lake', 'rad', 1.46),\n",
       " ('lake', 'sal', 0.21),\n",
       " ('roe', 'sal', 22.5),\n",
       " ('roe', 'rad', 11.25)]"
      ]
     },
     "execution_count": 10,
     "metadata": {},
     "output_type": "execute_result"
    }
   ],
   "source": [
    "%%sql\n",
    "SELECT person, quant, reading\n",
    "FROM Survey;"
   ]
  },
  {
   "cell_type": "code",
   "execution_count": null,
   "id": "7031c15a-81a2-47c6-a95a-dc722bf09ce0",
   "metadata": {},
   "outputs": [],
   "source": []
  },
  {
   "cell_type": "code",
   "execution_count": null,
   "id": "8682d910-e48b-4976-8f63-cc85a5dd1292",
   "metadata": {},
   "outputs": [],
   "source": []
  },
  {
   "cell_type": "markdown",
   "id": "4e890b4d-8b08-4437-90d2-6afb1be2081c",
   "metadata": {},
   "source": [
    "# 2.\n",
    "Let's say we're assigned the two analyses:\n",
    "- What kind of quantity measurements were taken at each site\n",
    "- Who took the measurements\n",
    "\n",
    "The measurements are stored in the `Survey` table.\n",
    "\n",
    "#### TODO\n",
    "Retrieve the `quant` column from the `Survey` table. What do you think this measures? Are the values unique?"
   ]
  },
  {
   "cell_type": "code",
   "execution_count": 5,
   "id": "973e7bed-4e1f-43fd-814b-1bba3407e839",
   "metadata": {
    "scrolled": true
   },
   "outputs": [
    {
     "name": "stdout",
     "output_type": "stream",
     "text": [
      "   sqlite://\n",
      " * sqlite:///survey.db\n",
      "Done.\n"
     ]
    },
    {
     "data": {
      "text/html": [
       "<table>\n",
       "    <thead>\n",
       "        <tr>\n",
       "            <th>quant</th>\n",
       "        </tr>\n",
       "    </thead>\n",
       "    <tbody>\n",
       "        <tr>\n",
       "            <td>rad</td>\n",
       "        </tr>\n",
       "        <tr>\n",
       "            <td>sal</td>\n",
       "        </tr>\n",
       "        <tr>\n",
       "            <td>rad</td>\n",
       "        </tr>\n",
       "        <tr>\n",
       "            <td>sal</td>\n",
       "        </tr>\n",
       "        <tr>\n",
       "            <td>rad</td>\n",
       "        </tr>\n",
       "        <tr>\n",
       "            <td>sal</td>\n",
       "        </tr>\n",
       "        <tr>\n",
       "            <td>temp</td>\n",
       "        </tr>\n",
       "        <tr>\n",
       "            <td>rad</td>\n",
       "        </tr>\n",
       "        <tr>\n",
       "            <td>sal</td>\n",
       "        </tr>\n",
       "        <tr>\n",
       "            <td>temp</td>\n",
       "        </tr>\n",
       "        <tr>\n",
       "            <td>rad</td>\n",
       "        </tr>\n",
       "        <tr>\n",
       "            <td>temp</td>\n",
       "        </tr>\n",
       "        <tr>\n",
       "            <td>sal</td>\n",
       "        </tr>\n",
       "        <tr>\n",
       "            <td>rad</td>\n",
       "        </tr>\n",
       "        <tr>\n",
       "            <td>sal</td>\n",
       "        </tr>\n",
       "        <tr>\n",
       "            <td>temp</td>\n",
       "        </tr>\n",
       "        <tr>\n",
       "            <td>sal</td>\n",
       "        </tr>\n",
       "        <tr>\n",
       "            <td>rad</td>\n",
       "        </tr>\n",
       "        <tr>\n",
       "            <td>sal</td>\n",
       "        </tr>\n",
       "        <tr>\n",
       "            <td>sal</td>\n",
       "        </tr>\n",
       "        <tr>\n",
       "            <td>rad</td>\n",
       "        </tr>\n",
       "    </tbody>\n",
       "</table>"
      ],
      "text/plain": [
       "[('rad',),\n",
       " ('sal',),\n",
       " ('rad',),\n",
       " ('sal',),\n",
       " ('rad',),\n",
       " ('sal',),\n",
       " ('temp',),\n",
       " ('rad',),\n",
       " ('sal',),\n",
       " ('temp',),\n",
       " ('rad',),\n",
       " ('temp',),\n",
       " ('sal',),\n",
       " ('rad',),\n",
       " ('sal',),\n",
       " ('temp',),\n",
       " ('sal',),\n",
       " ('rad',),\n",
       " ('sal',),\n",
       " ('sal',),\n",
       " ('rad',)]"
      ]
     },
     "execution_count": 5,
     "metadata": {},
     "output_type": "execute_result"
    }
   ],
   "source": [
    "%%sql\n",
    "SELECT  quant\n",
    "FROM Survey;"
   ]
  },
  {
   "cell_type": "markdown",
   "id": "2bb839e5-896b-4e23-8fd4-9776d9a2f9a3",
   "metadata": {},
   "source": [
    "If we want to see the unique set of values in a column, we can de-duplicate using the `DISTINCT` keyword:"
   ]
  },
  {
   "cell_type": "code",
   "execution_count": 6,
   "id": "80907c28-5ac4-428f-8a1f-1338ad67464e",
   "metadata": {},
   "outputs": [
    {
     "name": "stdout",
     "output_type": "stream",
     "text": [
      "   sqlite://\n",
      " * sqlite:///survey.db\n",
      "Done.\n"
     ]
    },
    {
     "data": {
      "text/html": [
       "<table>\n",
       "    <thead>\n",
       "        <tr>\n",
       "            <th>quant</th>\n",
       "        </tr>\n",
       "    </thead>\n",
       "    <tbody>\n",
       "        <tr>\n",
       "            <td>rad</td>\n",
       "        </tr>\n",
       "        <tr>\n",
       "            <td>sal</td>\n",
       "        </tr>\n",
       "        <tr>\n",
       "            <td>temp</td>\n",
       "        </tr>\n",
       "    </tbody>\n",
       "</table>"
      ],
      "text/plain": [
       "[('rad',), ('sal',), ('temp',)]"
      ]
     },
     "execution_count": 6,
     "metadata": {},
     "output_type": "execute_result"
    }
   ],
   "source": [
    "%%sql\n",
    "SELECT DISTINCT quant FROM Survey;"
   ]
  },
  {
   "cell_type": "markdown",
   "id": "fea89e92-77b5-461a-82c9-754e9a1fd7da",
   "metadata": {},
   "source": [
    "We can also deduplicate multiple columns.\n",
    "\n",
    "#### TODO\n",
    "Get all unique combinations of `taken` and `quant` from this table. "
   ]
  },
  {
   "cell_type": "code",
   "execution_count": 7,
   "id": "85b2540b-3ca7-47f2-b4be-74977acf4354",
   "metadata": {
    "scrolled": true
   },
   "outputs": [
    {
     "name": "stdout",
     "output_type": "stream",
     "text": [
      "   sqlite://\n",
      " * sqlite:///survey.db\n",
      "Done.\n"
     ]
    },
    {
     "data": {
      "text/html": [
       "<table>\n",
       "    <thead>\n",
       "        <tr>\n",
       "            <th>taken</th>\n",
       "            <th>quant</th>\n",
       "        </tr>\n",
       "    </thead>\n",
       "    <tbody>\n",
       "        <tr>\n",
       "            <td>619</td>\n",
       "            <td>rad</td>\n",
       "        </tr>\n",
       "        <tr>\n",
       "            <td>619</td>\n",
       "            <td>sal</td>\n",
       "        </tr>\n",
       "        <tr>\n",
       "            <td>622</td>\n",
       "            <td>rad</td>\n",
       "        </tr>\n",
       "        <tr>\n",
       "            <td>622</td>\n",
       "            <td>sal</td>\n",
       "        </tr>\n",
       "        <tr>\n",
       "            <td>734</td>\n",
       "            <td>rad</td>\n",
       "        </tr>\n",
       "        <tr>\n",
       "            <td>734</td>\n",
       "            <td>sal</td>\n",
       "        </tr>\n",
       "        <tr>\n",
       "            <td>734</td>\n",
       "            <td>temp</td>\n",
       "        </tr>\n",
       "        <tr>\n",
       "            <td>735</td>\n",
       "            <td>rad</td>\n",
       "        </tr>\n",
       "        <tr>\n",
       "            <td>735</td>\n",
       "            <td>sal</td>\n",
       "        </tr>\n",
       "        <tr>\n",
       "            <td>735</td>\n",
       "            <td>temp</td>\n",
       "        </tr>\n",
       "        <tr>\n",
       "            <td>751</td>\n",
       "            <td>rad</td>\n",
       "        </tr>\n",
       "        <tr>\n",
       "            <td>751</td>\n",
       "            <td>temp</td>\n",
       "        </tr>\n",
       "        <tr>\n",
       "            <td>751</td>\n",
       "            <td>sal</td>\n",
       "        </tr>\n",
       "        <tr>\n",
       "            <td>752</td>\n",
       "            <td>rad</td>\n",
       "        </tr>\n",
       "        <tr>\n",
       "            <td>752</td>\n",
       "            <td>sal</td>\n",
       "        </tr>\n",
       "        <tr>\n",
       "            <td>752</td>\n",
       "            <td>temp</td>\n",
       "        </tr>\n",
       "        <tr>\n",
       "            <td>837</td>\n",
       "            <td>rad</td>\n",
       "        </tr>\n",
       "        <tr>\n",
       "            <td>837</td>\n",
       "            <td>sal</td>\n",
       "        </tr>\n",
       "        <tr>\n",
       "            <td>844</td>\n",
       "            <td>rad</td>\n",
       "        </tr>\n",
       "    </tbody>\n",
       "</table>"
      ],
      "text/plain": [
       "[(619, 'rad'),\n",
       " (619, 'sal'),\n",
       " (622, 'rad'),\n",
       " (622, 'sal'),\n",
       " (734, 'rad'),\n",
       " (734, 'sal'),\n",
       " (734, 'temp'),\n",
       " (735, 'rad'),\n",
       " (735, 'sal'),\n",
       " (735, 'temp'),\n",
       " (751, 'rad'),\n",
       " (751, 'temp'),\n",
       " (751, 'sal'),\n",
       " (752, 'rad'),\n",
       " (752, 'sal'),\n",
       " (752, 'temp'),\n",
       " (837, 'rad'),\n",
       " (837, 'sal'),\n",
       " (844, 'rad')]"
      ]
     },
     "execution_count": 7,
     "metadata": {},
     "output_type": "execute_result"
    }
   ],
   "source": [
    "%%sql\n",
    "SELECT DISTINCT taken, quant FROM Survey;"
   ]
  },
  {
   "cell_type": "code",
   "execution_count": null,
   "id": "3f0c0de0-7da3-4ece-8912-3a482ff40867",
   "metadata": {},
   "outputs": [],
   "source": []
  },
  {
   "cell_type": "markdown",
   "id": "6edad190-8c77-4662-8f05-760a313787a7",
   "metadata": {},
   "source": [
    "Next, let's look at the scientists on the expedition. "
   ]
  },
  {
   "cell_type": "code",
   "execution_count": 8,
   "id": "865d13d9-0216-482e-8ab8-6a2ef2eb7038",
   "metadata": {},
   "outputs": [
    {
     "name": "stdout",
     "output_type": "stream",
     "text": [
      "   sqlite://\n",
      " * sqlite:///survey.db\n",
      "Done.\n"
     ]
    },
    {
     "data": {
      "text/html": [
       "<table>\n",
       "    <thead>\n",
       "        <tr>\n",
       "            <th>id</th>\n",
       "            <th>personal</th>\n",
       "            <th>family</th>\n",
       "        </tr>\n",
       "    </thead>\n",
       "    <tbody>\n",
       "        <tr>\n",
       "            <td>dyer</td>\n",
       "            <td>William</td>\n",
       "            <td>Dyer</td>\n",
       "        </tr>\n",
       "        <tr>\n",
       "            <td>pb</td>\n",
       "            <td>Frank</td>\n",
       "            <td>Pabodie</td>\n",
       "        </tr>\n",
       "        <tr>\n",
       "            <td>lake</td>\n",
       "            <td>Anderson</td>\n",
       "            <td>Lake</td>\n",
       "        </tr>\n",
       "        <tr>\n",
       "            <td>roe</td>\n",
       "            <td>Valentina</td>\n",
       "            <td>Roerich</td>\n",
       "        </tr>\n",
       "        <tr>\n",
       "            <td>danforth</td>\n",
       "            <td>Frank</td>\n",
       "            <td>Danforth</td>\n",
       "        </tr>\n",
       "    </tbody>\n",
       "</table>"
      ],
      "text/plain": [
       "[('dyer', 'William', 'Dyer'),\n",
       " ('pb', 'Frank', 'Pabodie'),\n",
       " ('lake', 'Anderson', 'Lake'),\n",
       " ('roe', 'Valentina', 'Roerich'),\n",
       " ('danforth', 'Frank', 'Danforth')]"
      ]
     },
     "execution_count": 8,
     "metadata": {},
     "output_type": "execute_result"
    }
   ],
   "source": [
    "%%sql\n",
    "SELECT * FROM Person;"
   ]
  },
  {
   "cell_type": "markdown",
   "id": "ba7be6f8-0703-4631-81d0-dc0547f525a1",
   "metadata": {},
   "source": [
    "Let's say we want these records to be returned in some order, say by ID. We can do this using the `ORDER BY` keyword:"
   ]
  },
  {
   "cell_type": "code",
   "execution_count": 10,
   "id": "06b47676-f300-497f-9885-d8ffe42ce21e",
   "metadata": {},
   "outputs": [
    {
     "name": "stdout",
     "output_type": "stream",
     "text": [
      "   sqlite://\n",
      " * sqlite:///survey.db\n",
      "Done.\n"
     ]
    },
    {
     "data": {
      "text/html": [
       "<table>\n",
       "    <thead>\n",
       "        <tr>\n",
       "            <th>id</th>\n",
       "            <th>personal</th>\n",
       "            <th>family</th>\n",
       "        </tr>\n",
       "    </thead>\n",
       "    <tbody>\n",
       "        <tr>\n",
       "            <td>danforth</td>\n",
       "            <td>Frank</td>\n",
       "            <td>Danforth</td>\n",
       "        </tr>\n",
       "        <tr>\n",
       "            <td>dyer</td>\n",
       "            <td>William</td>\n",
       "            <td>Dyer</td>\n",
       "        </tr>\n",
       "        <tr>\n",
       "            <td>lake</td>\n",
       "            <td>Anderson</td>\n",
       "            <td>Lake</td>\n",
       "        </tr>\n",
       "        <tr>\n",
       "            <td>pb</td>\n",
       "            <td>Frank</td>\n",
       "            <td>Pabodie</td>\n",
       "        </tr>\n",
       "        <tr>\n",
       "            <td>roe</td>\n",
       "            <td>Valentina</td>\n",
       "            <td>Roerich</td>\n",
       "        </tr>\n",
       "    </tbody>\n",
       "</table>"
      ],
      "text/plain": [
       "[('danforth', 'Frank', 'Danforth'),\n",
       " ('dyer', 'William', 'Dyer'),\n",
       " ('lake', 'Anderson', 'Lake'),\n",
       " ('pb', 'Frank', 'Pabodie'),\n",
       " ('roe', 'Valentina', 'Roerich')]"
      ]
     },
     "execution_count": 10,
     "metadata": {},
     "output_type": "execute_result"
    }
   ],
   "source": [
    "%%sql\n",
    "SELECT * FROM Person ORDER BY id;"
   ]
  },
  {
   "cell_type": "markdown",
   "id": "f8043c7b-15ac-4a9a-8536-acb5d219507a",
   "metadata": {},
   "source": [
    "We could reverse the order using the `DESC` keyword:"
   ]
  },
  {
   "cell_type": "code",
   "execution_count": 11,
   "id": "af3afb81-71d3-42e0-bce9-96122695ceb7",
   "metadata": {},
   "outputs": [
    {
     "name": "stdout",
     "output_type": "stream",
     "text": [
      "   sqlite://\n",
      " * sqlite:///survey.db\n",
      "Done.\n"
     ]
    },
    {
     "data": {
      "text/html": [
       "<table>\n",
       "    <thead>\n",
       "        <tr>\n",
       "            <th>id</th>\n",
       "            <th>personal</th>\n",
       "            <th>family</th>\n",
       "        </tr>\n",
       "    </thead>\n",
       "    <tbody>\n",
       "        <tr>\n",
       "            <td>roe</td>\n",
       "            <td>Valentina</td>\n",
       "            <td>Roerich</td>\n",
       "        </tr>\n",
       "        <tr>\n",
       "            <td>pb</td>\n",
       "            <td>Frank</td>\n",
       "            <td>Pabodie</td>\n",
       "        </tr>\n",
       "        <tr>\n",
       "            <td>lake</td>\n",
       "            <td>Anderson</td>\n",
       "            <td>Lake</td>\n",
       "        </tr>\n",
       "        <tr>\n",
       "            <td>dyer</td>\n",
       "            <td>William</td>\n",
       "            <td>Dyer</td>\n",
       "        </tr>\n",
       "        <tr>\n",
       "            <td>danforth</td>\n",
       "            <td>Frank</td>\n",
       "            <td>Danforth</td>\n",
       "        </tr>\n",
       "    </tbody>\n",
       "</table>"
      ],
      "text/plain": [
       "[('roe', 'Valentina', 'Roerich'),\n",
       " ('pb', 'Frank', 'Pabodie'),\n",
       " ('lake', 'Anderson', 'Lake'),\n",
       " ('dyer', 'William', 'Dyer'),\n",
       " ('danforth', 'Frank', 'Danforth')]"
      ]
     },
     "execution_count": 11,
     "metadata": {},
     "output_type": "execute_result"
    }
   ],
   "source": [
    "%%sql\n",
    "SELECT * FROM Person ORDER BY id DESC;"
   ]
  },
  {
   "cell_type": "code",
   "execution_count": null,
   "id": "ed082f0f-4c1b-45cd-97ec-0af1d0cfbb2f",
   "metadata": {},
   "outputs": [],
   "source": []
  },
  {
   "cell_type": "markdown",
   "id": "0735c254-b3be-4e9f-b32d-75f15d76be7c",
   "metadata": {},
   "source": [
    "#### TODO\n",
    "Write a query that sorts in ascending order by first name. Then write another query that sortts in descending order by last name."
   ]
  },
  {
   "cell_type": "code",
   "execution_count": 14,
   "id": "ba4b41a2-7cc8-4233-983c-180fafe97b1e",
   "metadata": {},
   "outputs": [
    {
     "name": "stdout",
     "output_type": "stream",
     "text": [
      "   sqlite://\n",
      " * sqlite:///survey.db\n",
      "Done.\n"
     ]
    },
    {
     "data": {
      "text/html": [
       "<table>\n",
       "    <thead>\n",
       "        <tr>\n",
       "            <th>id</th>\n",
       "            <th>personal</th>\n",
       "            <th>family</th>\n",
       "        </tr>\n",
       "    </thead>\n",
       "    <tbody>\n",
       "        <tr>\n",
       "            <td>lake</td>\n",
       "            <td>Anderson</td>\n",
       "            <td>Lake</td>\n",
       "        </tr>\n",
       "        <tr>\n",
       "            <td>pb</td>\n",
       "            <td>Frank</td>\n",
       "            <td>Pabodie</td>\n",
       "        </tr>\n",
       "        <tr>\n",
       "            <td>danforth</td>\n",
       "            <td>Frank</td>\n",
       "            <td>Danforth</td>\n",
       "        </tr>\n",
       "        <tr>\n",
       "            <td>roe</td>\n",
       "            <td>Valentina</td>\n",
       "            <td>Roerich</td>\n",
       "        </tr>\n",
       "        <tr>\n",
       "            <td>dyer</td>\n",
       "            <td>William</td>\n",
       "            <td>Dyer</td>\n",
       "        </tr>\n",
       "    </tbody>\n",
       "</table>"
      ],
      "text/plain": [
       "[('lake', 'Anderson', 'Lake'),\n",
       " ('pb', 'Frank', 'Pabodie'),\n",
       " ('danforth', 'Frank', 'Danforth'),\n",
       " ('roe', 'Valentina', 'Roerich'),\n",
       " ('dyer', 'William', 'Dyer')]"
      ]
     },
     "execution_count": 14,
     "metadata": {},
     "output_type": "execute_result"
    }
   ],
   "source": [
    "%%sql\n",
    "SELECT * FROM Person ORDER BY personal ASC;"
   ]
  },
  {
   "cell_type": "code",
   "execution_count": 15,
   "id": "22953ecc-4f54-465e-8afd-596d6769b17c",
   "metadata": {},
   "outputs": [
    {
     "name": "stdout",
     "output_type": "stream",
     "text": [
      "   sqlite://\n",
      " * sqlite:///survey.db\n",
      "Done.\n"
     ]
    },
    {
     "data": {
      "text/html": [
       "<table>\n",
       "    <thead>\n",
       "        <tr>\n",
       "            <th>id</th>\n",
       "            <th>personal</th>\n",
       "            <th>family</th>\n",
       "        </tr>\n",
       "    </thead>\n",
       "    <tbody>\n",
       "        <tr>\n",
       "            <td>roe</td>\n",
       "            <td>Valentina</td>\n",
       "            <td>Roerich</td>\n",
       "        </tr>\n",
       "        <tr>\n",
       "            <td>pb</td>\n",
       "            <td>Frank</td>\n",
       "            <td>Pabodie</td>\n",
       "        </tr>\n",
       "        <tr>\n",
       "            <td>lake</td>\n",
       "            <td>Anderson</td>\n",
       "            <td>Lake</td>\n",
       "        </tr>\n",
       "        <tr>\n",
       "            <td>dyer</td>\n",
       "            <td>William</td>\n",
       "            <td>Dyer</td>\n",
       "        </tr>\n",
       "        <tr>\n",
       "            <td>danforth</td>\n",
       "            <td>Frank</td>\n",
       "            <td>Danforth</td>\n",
       "        </tr>\n",
       "    </tbody>\n",
       "</table>"
      ],
      "text/plain": [
       "[('roe', 'Valentina', 'Roerich'),\n",
       " ('pb', 'Frank', 'Pabodie'),\n",
       " ('lake', 'Anderson', 'Lake'),\n",
       " ('dyer', 'William', 'Dyer'),\n",
       " ('danforth', 'Frank', 'Danforth')]"
      ]
     },
     "execution_count": 15,
     "metadata": {},
     "output_type": "execute_result"
    }
   ],
   "source": [
    "%%sql\n",
    "SELECT * FROM Person ORDER BY family DESC;"
   ]
  },
  {
   "cell_type": "markdown",
   "id": "45901503-205a-4240-932e-6899ce1e2027",
   "metadata": {},
   "source": [
    "Let's look again at the `Survey` table. This has a column called `person`. Let's sort the rows by this column. What do you notice about these values?"
   ]
  },
  {
   "cell_type": "code",
   "execution_count": 13,
   "id": "28ab6378-a54b-40a7-8fec-08f34a2a0a80",
   "metadata": {
    "scrolled": true
   },
   "outputs": [
    {
     "name": "stdout",
     "output_type": "stream",
     "text": [
      "   sqlite://\n",
      " * sqlite:///survey.db\n",
      "Done.\n"
     ]
    },
    {
     "data": {
      "text/html": [
       "<table>\n",
       "    <thead>\n",
       "        <tr>\n",
       "            <th>taken</th>\n",
       "            <th>person</th>\n",
       "            <th>quant</th>\n",
       "            <th>reading</th>\n",
       "        </tr>\n",
       "    </thead>\n",
       "    <tbody>\n",
       "        <tr>\n",
       "            <td>735</td>\n",
       "            <td>None</td>\n",
       "            <td>sal</td>\n",
       "            <td>0.06</td>\n",
       "        </tr>\n",
       "        <tr>\n",
       "            <td>735</td>\n",
       "            <td>None</td>\n",
       "            <td>temp</td>\n",
       "            <td>-26.0</td>\n",
       "        </tr>\n",
       "        <tr>\n",
       "            <td>619</td>\n",
       "            <td>dyer</td>\n",
       "            <td>rad</td>\n",
       "            <td>9.82</td>\n",
       "        </tr>\n",
       "        <tr>\n",
       "            <td>619</td>\n",
       "            <td>dyer</td>\n",
       "            <td>sal</td>\n",
       "            <td>0.13</td>\n",
       "        </tr>\n",
       "        <tr>\n",
       "            <td>622</td>\n",
       "            <td>dyer</td>\n",
       "            <td>rad</td>\n",
       "            <td>7.8</td>\n",
       "        </tr>\n",
       "        <tr>\n",
       "            <td>622</td>\n",
       "            <td>dyer</td>\n",
       "            <td>sal</td>\n",
       "            <td>0.09</td>\n",
       "        </tr>\n",
       "        <tr>\n",
       "            <td>734</td>\n",
       "            <td>lake</td>\n",
       "            <td>sal</td>\n",
       "            <td>0.05</td>\n",
       "        </tr>\n",
       "        <tr>\n",
       "            <td>751</td>\n",
       "            <td>lake</td>\n",
       "            <td>sal</td>\n",
       "            <td>0.1</td>\n",
       "        </tr>\n",
       "        <tr>\n",
       "            <td>752</td>\n",
       "            <td>lake</td>\n",
       "            <td>rad</td>\n",
       "            <td>2.19</td>\n",
       "        </tr>\n",
       "        <tr>\n",
       "            <td>752</td>\n",
       "            <td>lake</td>\n",
       "            <td>sal</td>\n",
       "            <td>0.09</td>\n",
       "        </tr>\n",
       "        <tr>\n",
       "            <td>752</td>\n",
       "            <td>lake</td>\n",
       "            <td>temp</td>\n",
       "            <td>-16.0</td>\n",
       "        </tr>\n",
       "        <tr>\n",
       "            <td>837</td>\n",
       "            <td>lake</td>\n",
       "            <td>rad</td>\n",
       "            <td>1.46</td>\n",
       "        </tr>\n",
       "        <tr>\n",
       "            <td>837</td>\n",
       "            <td>lake</td>\n",
       "            <td>sal</td>\n",
       "            <td>0.21</td>\n",
       "        </tr>\n",
       "        <tr>\n",
       "            <td>734</td>\n",
       "            <td>pb</td>\n",
       "            <td>rad</td>\n",
       "            <td>8.41</td>\n",
       "        </tr>\n",
       "        <tr>\n",
       "            <td>734</td>\n",
       "            <td>pb</td>\n",
       "            <td>temp</td>\n",
       "            <td>-21.5</td>\n",
       "        </tr>\n",
       "        <tr>\n",
       "            <td>735</td>\n",
       "            <td>pb</td>\n",
       "            <td>rad</td>\n",
       "            <td>7.22</td>\n",
       "        </tr>\n",
       "        <tr>\n",
       "            <td>751</td>\n",
       "            <td>pb</td>\n",
       "            <td>rad</td>\n",
       "            <td>4.35</td>\n",
       "        </tr>\n",
       "        <tr>\n",
       "            <td>751</td>\n",
       "            <td>pb</td>\n",
       "            <td>temp</td>\n",
       "            <td>-18.5</td>\n",
       "        </tr>\n",
       "        <tr>\n",
       "            <td>752</td>\n",
       "            <td>roe</td>\n",
       "            <td>sal</td>\n",
       "            <td>41.6</td>\n",
       "        </tr>\n",
       "        <tr>\n",
       "            <td>837</td>\n",
       "            <td>roe</td>\n",
       "            <td>sal</td>\n",
       "            <td>22.5</td>\n",
       "        </tr>\n",
       "        <tr>\n",
       "            <td>844</td>\n",
       "            <td>roe</td>\n",
       "            <td>rad</td>\n",
       "            <td>11.25</td>\n",
       "        </tr>\n",
       "    </tbody>\n",
       "</table>"
      ],
      "text/plain": [
       "[(735, None, 'sal', 0.06),\n",
       " (735, None, 'temp', -26.0),\n",
       " (619, 'dyer', 'rad', 9.82),\n",
       " (619, 'dyer', 'sal', 0.13),\n",
       " (622, 'dyer', 'rad', 7.8),\n",
       " (622, 'dyer', 'sal', 0.09),\n",
       " (734, 'lake', 'sal', 0.05),\n",
       " (751, 'lake', 'sal', 0.1),\n",
       " (752, 'lake', 'rad', 2.19),\n",
       " (752, 'lake', 'sal', 0.09),\n",
       " (752, 'lake', 'temp', -16.0),\n",
       " (837, 'lake', 'rad', 1.46),\n",
       " (837, 'lake', 'sal', 0.21),\n",
       " (734, 'pb', 'rad', 8.41),\n",
       " (734, 'pb', 'temp', -21.5),\n",
       " (735, 'pb', 'rad', 7.22),\n",
       " (751, 'pb', 'rad', 4.35),\n",
       " (751, 'pb', 'temp', -18.5),\n",
       " (752, 'roe', 'sal', 41.6),\n",
       " (837, 'roe', 'sal', 22.5),\n",
       " (844, 'roe', 'rad', 11.25)]"
      ]
     },
     "execution_count": 13,
     "metadata": {},
     "output_type": "execute_result"
    }
   ],
   "source": [
    "%%sql\n",
    "SELECT * FROM Survey ORDER BY person;"
   ]
  },
  {
   "cell_type": "markdown",
   "id": "316e9183-14e9-4529-9fad-63ebbe172285",
   "metadata": {},
   "source": [
    "We can order by multiple columns, both ascending and descending. For example, let's order the rows of `Survey` by  `taken` in ascending order and `person` in descending order:"
   ]
  },
  {
   "cell_type": "code",
   "execution_count": 16,
   "id": "67e599c3-c5a9-43e1-a6f4-06cd7325bb45",
   "metadata": {
    "scrolled": true
   },
   "outputs": [
    {
     "name": "stdout",
     "output_type": "stream",
     "text": [
      "   sqlite://\n",
      " * sqlite:///survey.db\n",
      "Done.\n"
     ]
    },
    {
     "data": {
      "text/html": [
       "<table>\n",
       "    <thead>\n",
       "        <tr>\n",
       "            <th>taken</th>\n",
       "            <th>person</th>\n",
       "            <th>quant</th>\n",
       "            <th>reading</th>\n",
       "        </tr>\n",
       "    </thead>\n",
       "    <tbody>\n",
       "        <tr>\n",
       "            <td>619</td>\n",
       "            <td>dyer</td>\n",
       "            <td>rad</td>\n",
       "            <td>9.82</td>\n",
       "        </tr>\n",
       "        <tr>\n",
       "            <td>619</td>\n",
       "            <td>dyer</td>\n",
       "            <td>sal</td>\n",
       "            <td>0.13</td>\n",
       "        </tr>\n",
       "        <tr>\n",
       "            <td>622</td>\n",
       "            <td>dyer</td>\n",
       "            <td>rad</td>\n",
       "            <td>7.8</td>\n",
       "        </tr>\n",
       "        <tr>\n",
       "            <td>622</td>\n",
       "            <td>dyer</td>\n",
       "            <td>sal</td>\n",
       "            <td>0.09</td>\n",
       "        </tr>\n",
       "        <tr>\n",
       "            <td>734</td>\n",
       "            <td>pb</td>\n",
       "            <td>rad</td>\n",
       "            <td>8.41</td>\n",
       "        </tr>\n",
       "        <tr>\n",
       "            <td>734</td>\n",
       "            <td>pb</td>\n",
       "            <td>temp</td>\n",
       "            <td>-21.5</td>\n",
       "        </tr>\n",
       "        <tr>\n",
       "            <td>734</td>\n",
       "            <td>lake</td>\n",
       "            <td>sal</td>\n",
       "            <td>0.05</td>\n",
       "        </tr>\n",
       "        <tr>\n",
       "            <td>735</td>\n",
       "            <td>pb</td>\n",
       "            <td>rad</td>\n",
       "            <td>7.22</td>\n",
       "        </tr>\n",
       "        <tr>\n",
       "            <td>735</td>\n",
       "            <td>None</td>\n",
       "            <td>sal</td>\n",
       "            <td>0.06</td>\n",
       "        </tr>\n",
       "        <tr>\n",
       "            <td>735</td>\n",
       "            <td>None</td>\n",
       "            <td>temp</td>\n",
       "            <td>-26.0</td>\n",
       "        </tr>\n",
       "        <tr>\n",
       "            <td>751</td>\n",
       "            <td>pb</td>\n",
       "            <td>rad</td>\n",
       "            <td>4.35</td>\n",
       "        </tr>\n",
       "        <tr>\n",
       "            <td>751</td>\n",
       "            <td>pb</td>\n",
       "            <td>temp</td>\n",
       "            <td>-18.5</td>\n",
       "        </tr>\n",
       "        <tr>\n",
       "            <td>751</td>\n",
       "            <td>lake</td>\n",
       "            <td>sal</td>\n",
       "            <td>0.1</td>\n",
       "        </tr>\n",
       "        <tr>\n",
       "            <td>752</td>\n",
       "            <td>roe</td>\n",
       "            <td>sal</td>\n",
       "            <td>41.6</td>\n",
       "        </tr>\n",
       "        <tr>\n",
       "            <td>752</td>\n",
       "            <td>lake</td>\n",
       "            <td>rad</td>\n",
       "            <td>2.19</td>\n",
       "        </tr>\n",
       "        <tr>\n",
       "            <td>752</td>\n",
       "            <td>lake</td>\n",
       "            <td>sal</td>\n",
       "            <td>0.09</td>\n",
       "        </tr>\n",
       "        <tr>\n",
       "            <td>752</td>\n",
       "            <td>lake</td>\n",
       "            <td>temp</td>\n",
       "            <td>-16.0</td>\n",
       "        </tr>\n",
       "        <tr>\n",
       "            <td>837</td>\n",
       "            <td>roe</td>\n",
       "            <td>sal</td>\n",
       "            <td>22.5</td>\n",
       "        </tr>\n",
       "        <tr>\n",
       "            <td>837</td>\n",
       "            <td>lake</td>\n",
       "            <td>rad</td>\n",
       "            <td>1.46</td>\n",
       "        </tr>\n",
       "        <tr>\n",
       "            <td>837</td>\n",
       "            <td>lake</td>\n",
       "            <td>sal</td>\n",
       "            <td>0.21</td>\n",
       "        </tr>\n",
       "        <tr>\n",
       "            <td>844</td>\n",
       "            <td>roe</td>\n",
       "            <td>rad</td>\n",
       "            <td>11.25</td>\n",
       "        </tr>\n",
       "    </tbody>\n",
       "</table>"
      ],
      "text/plain": [
       "[(619, 'dyer', 'rad', 9.82),\n",
       " (619, 'dyer', 'sal', 0.13),\n",
       " (622, 'dyer', 'rad', 7.8),\n",
       " (622, 'dyer', 'sal', 0.09),\n",
       " (734, 'pb', 'rad', 8.41),\n",
       " (734, 'pb', 'temp', -21.5),\n",
       " (734, 'lake', 'sal', 0.05),\n",
       " (735, 'pb', 'rad', 7.22),\n",
       " (735, None, 'sal', 0.06),\n",
       " (735, None, 'temp', -26.0),\n",
       " (751, 'pb', 'rad', 4.35),\n",
       " (751, 'pb', 'temp', -18.5),\n",
       " (751, 'lake', 'sal', 0.1),\n",
       " (752, 'roe', 'sal', 41.6),\n",
       " (752, 'lake', 'rad', 2.19),\n",
       " (752, 'lake', 'sal', 0.09),\n",
       " (752, 'lake', 'temp', -16.0),\n",
       " (837, 'roe', 'sal', 22.5),\n",
       " (837, 'lake', 'rad', 1.46),\n",
       " (837, 'lake', 'sal', 0.21),\n",
       " (844, 'roe', 'rad', 11.25)]"
      ]
     },
     "execution_count": 16,
     "metadata": {},
     "output_type": "execute_result"
    }
   ],
   "source": [
    "%%sql\n",
    "SELECT * FROM Survey ORDER BY taken ASC, person DESC;"
   ]
  },
  {
   "cell_type": "code",
   "execution_count": null,
   "id": "db4f1fb8-016a-4b40-be19-44fb27f76cb2",
   "metadata": {},
   "outputs": [],
   "source": []
  },
  {
   "cell_type": "markdown",
   "id": "9e560498-151c-489c-a900-8a877ea31823",
   "metadata": {},
   "source": [
    "#### TODO\n",
    "Let's look more closely at which scientists toook each type of measurement. It would be easier to do this if we deduplicated the results. So write a query that does the following:\n",
    "- Returns unique rows of `taken`, `person`, and `quant`\n",
    "- Sorts first by `taken`, and then by descending `person`"
   ]
  },
  {
   "cell_type": "code",
   "execution_count": null,
   "id": "e5973582-09b3-4c07-80a8-f007ff142b0e",
   "metadata": {},
   "outputs": [],
   "source": []
  },
  {
   "cell_type": "markdown",
   "id": "f310f036-1a66-489e-ae84-5459d8757a4a",
   "metadata": {},
   "source": [
    "#### TODO\n",
    "Scientists on this expedition might have specialized in certain types of measurements. What would be a good way to see this?"
   ]
  },
  {
   "cell_type": "code",
   "execution_count": 17,
   "id": "3591e862-9b20-4345-89f0-4039e9cd3ad4",
   "metadata": {},
   "outputs": [
    {
     "name": "stdout",
     "output_type": "stream",
     "text": [
      "   sqlite://\n",
      " * sqlite:///survey.db\n",
      "Done.\n"
     ]
    },
    {
     "data": {
      "text/html": [
       "<table>\n",
       "    <thead>\n",
       "        <tr>\n",
       "            <th>person</th>\n",
       "            <th>quant</th>\n",
       "        </tr>\n",
       "    </thead>\n",
       "    <tbody>\n",
       "        <tr>\n",
       "            <td>None</td>\n",
       "            <td>sal</td>\n",
       "        </tr>\n",
       "        <tr>\n",
       "            <td>None</td>\n",
       "            <td>temp</td>\n",
       "        </tr>\n",
       "        <tr>\n",
       "            <td>dyer</td>\n",
       "            <td>rad</td>\n",
       "        </tr>\n",
       "        <tr>\n",
       "            <td>dyer</td>\n",
       "            <td>rad</td>\n",
       "        </tr>\n",
       "        <tr>\n",
       "            <td>dyer</td>\n",
       "            <td>sal</td>\n",
       "        </tr>\n",
       "        <tr>\n",
       "            <td>dyer</td>\n",
       "            <td>sal</td>\n",
       "        </tr>\n",
       "        <tr>\n",
       "            <td>lake</td>\n",
       "            <td>rad</td>\n",
       "        </tr>\n",
       "        <tr>\n",
       "            <td>lake</td>\n",
       "            <td>rad</td>\n",
       "        </tr>\n",
       "        <tr>\n",
       "            <td>lake</td>\n",
       "            <td>sal</td>\n",
       "        </tr>\n",
       "        <tr>\n",
       "            <td>lake</td>\n",
       "            <td>sal</td>\n",
       "        </tr>\n",
       "        <tr>\n",
       "            <td>lake</td>\n",
       "            <td>sal</td>\n",
       "        </tr>\n",
       "        <tr>\n",
       "            <td>lake</td>\n",
       "            <td>sal</td>\n",
       "        </tr>\n",
       "        <tr>\n",
       "            <td>lake</td>\n",
       "            <td>temp</td>\n",
       "        </tr>\n",
       "        <tr>\n",
       "            <td>pb</td>\n",
       "            <td>rad</td>\n",
       "        </tr>\n",
       "        <tr>\n",
       "            <td>pb</td>\n",
       "            <td>rad</td>\n",
       "        </tr>\n",
       "        <tr>\n",
       "            <td>pb</td>\n",
       "            <td>rad</td>\n",
       "        </tr>\n",
       "        <tr>\n",
       "            <td>pb</td>\n",
       "            <td>temp</td>\n",
       "        </tr>\n",
       "        <tr>\n",
       "            <td>pb</td>\n",
       "            <td>temp</td>\n",
       "        </tr>\n",
       "        <tr>\n",
       "            <td>roe</td>\n",
       "            <td>rad</td>\n",
       "        </tr>\n",
       "        <tr>\n",
       "            <td>roe</td>\n",
       "            <td>sal</td>\n",
       "        </tr>\n",
       "        <tr>\n",
       "            <td>roe</td>\n",
       "            <td>sal</td>\n",
       "        </tr>\n",
       "    </tbody>\n",
       "</table>"
      ],
      "text/plain": [
       "[(None, 'sal'),\n",
       " (None, 'temp'),\n",
       " ('dyer', 'rad'),\n",
       " ('dyer', 'rad'),\n",
       " ('dyer', 'sal'),\n",
       " ('dyer', 'sal'),\n",
       " ('lake', 'rad'),\n",
       " ('lake', 'rad'),\n",
       " ('lake', 'sal'),\n",
       " ('lake', 'sal'),\n",
       " ('lake', 'sal'),\n",
       " ('lake', 'sal'),\n",
       " ('lake', 'temp'),\n",
       " ('pb', 'rad'),\n",
       " ('pb', 'rad'),\n",
       " ('pb', 'rad'),\n",
       " ('pb', 'temp'),\n",
       " ('pb', 'temp'),\n",
       " ('roe', 'rad'),\n",
       " ('roe', 'sal'),\n",
       " ('roe', 'sal')]"
      ]
     },
     "execution_count": 17,
     "metadata": {},
     "output_type": "execute_result"
    }
   ],
   "source": [
    "%%sql\n",
    "SELECT person, quant FROM Survey\n",
    "ORDER BY person, quant;"
   ]
  },
  {
   "cell_type": "code",
   "execution_count": null,
   "id": "9cad76db-d860-4f62-8911-e1882c9b8cb0",
   "metadata": {},
   "outputs": [],
   "source": []
  },
  {
   "cell_type": "markdown",
   "id": "aba8766c-d7a2-49fa-8ec9-8d8bd5311f8a",
   "metadata": {},
   "source": [
    "#### TODO\n",
    "Write a query that selects unique dates from `Visited`."
   ]
  },
  {
   "cell_type": "code",
   "execution_count": 18,
   "id": "6258180d-8c07-4543-946a-a11158bbb0cf",
   "metadata": {},
   "outputs": [
    {
     "name": "stdout",
     "output_type": "stream",
     "text": [
      "   sqlite://\n",
      " * sqlite:///survey.db\n",
      "Done.\n"
     ]
    },
    {
     "data": {
      "text/html": [
       "<table>\n",
       "    <thead>\n",
       "        <tr>\n",
       "            <th>dated</th>\n",
       "        </tr>\n",
       "    </thead>\n",
       "    <tbody>\n",
       "        <tr>\n",
       "            <td>1927-02-08</td>\n",
       "        </tr>\n",
       "        <tr>\n",
       "            <td>1927-02-10</td>\n",
       "        </tr>\n",
       "        <tr>\n",
       "            <td>1930-01-07</td>\n",
       "        </tr>\n",
       "        <tr>\n",
       "            <td>1930-01-12</td>\n",
       "        </tr>\n",
       "        <tr>\n",
       "            <td>1930-02-26</td>\n",
       "        </tr>\n",
       "        <tr>\n",
       "            <td>None</td>\n",
       "        </tr>\n",
       "        <tr>\n",
       "            <td>1932-01-14</td>\n",
       "        </tr>\n",
       "        <tr>\n",
       "            <td>1932-03-22</td>\n",
       "        </tr>\n",
       "    </tbody>\n",
       "</table>"
      ],
      "text/plain": [
       "[('1927-02-08',),\n",
       " ('1927-02-10',),\n",
       " ('1930-01-07',),\n",
       " ('1930-01-12',),\n",
       " ('1930-02-26',),\n",
       " (None,),\n",
       " ('1932-01-14',),\n",
       " ('1932-03-22',)]"
      ]
     },
     "execution_count": 18,
     "metadata": {},
     "output_type": "execute_result"
    }
   ],
   "source": [
    "%%sql\n",
    "SELECT DISTINCT dated FROM Visited;"
   ]
  },
  {
   "cell_type": "code",
   "execution_count": null,
   "id": "13e41449-712d-41be-8b94-7f4b9af2deca",
   "metadata": {},
   "outputs": [],
   "source": []
  },
  {
   "cell_type": "markdown",
   "id": "d9e70e3c-7e63-4545-819f-0e4a3ae92588",
   "metadata": {},
   "source": [
    "# 3. Filtering\n",
    "So far, we've been either selecting all the rows of a table (sometimes de-duplicating them). But often we need to select data that match a certain criteria. For example:\n",
    "- Patients who have a certain diagnosis\n",
    "- Patients who received treatment during a certain timeframe\n",
    "- Patients with certain characterisitcs\n",
    "\n",
    "To do that, we need to **filter** the data. For example, let's look at the sites in the `Visited` table:"
   ]
  },
  {
   "cell_type": "code",
   "execution_count": 19,
   "id": "fb76aafd-059a-48ad-bfc2-2c7cc7f8fe33",
   "metadata": {},
   "outputs": [
    {
     "name": "stdout",
     "output_type": "stream",
     "text": [
      "   sqlite://\n",
      " * sqlite:///survey.db\n",
      "Done.\n"
     ]
    },
    {
     "data": {
      "text/html": [
       "<table>\n",
       "    <thead>\n",
       "        <tr>\n",
       "            <th>site</th>\n",
       "        </tr>\n",
       "    </thead>\n",
       "    <tbody>\n",
       "        <tr>\n",
       "            <td>DR-1</td>\n",
       "        </tr>\n",
       "        <tr>\n",
       "            <td>DR-3</td>\n",
       "        </tr>\n",
       "        <tr>\n",
       "            <td>MSK-4</td>\n",
       "        </tr>\n",
       "    </tbody>\n",
       "</table>"
      ],
      "text/plain": [
       "[('DR-1',), ('DR-3',), ('MSK-4',)]"
      ]
     },
     "execution_count": 19,
     "metadata": {},
     "output_type": "execute_result"
    }
   ],
   "source": [
    "%%sql\n",
    "SELECT DISTINCT Site FROM Visited;"
   ]
  },
  {
   "cell_type": "markdown",
   "id": "83e93cc4-537e-47c1-8eff-649078118016",
   "metadata": {},
   "source": [
    "Let's look at just rows that came from site **DR-1**. We do this using the `WHERE` keyword:"
   ]
  },
  {
   "cell_type": "code",
   "execution_count": 20,
   "id": "50b09d62-0021-43f3-bdf8-4798aa8ca686",
   "metadata": {},
   "outputs": [
    {
     "name": "stdout",
     "output_type": "stream",
     "text": [
      "   sqlite://\n",
      " * sqlite:///survey.db\n",
      "Done.\n"
     ]
    },
    {
     "data": {
      "text/html": [
       "<table>\n",
       "    <thead>\n",
       "        <tr>\n",
       "            <th>id</th>\n",
       "            <th>site</th>\n",
       "            <th>dated</th>\n",
       "        </tr>\n",
       "    </thead>\n",
       "    <tbody>\n",
       "        <tr>\n",
       "            <td>619</td>\n",
       "            <td>DR-1</td>\n",
       "            <td>1927-02-08</td>\n",
       "        </tr>\n",
       "        <tr>\n",
       "            <td>622</td>\n",
       "            <td>DR-1</td>\n",
       "            <td>1927-02-10</td>\n",
       "        </tr>\n",
       "        <tr>\n",
       "            <td>844</td>\n",
       "            <td>DR-1</td>\n",
       "            <td>1932-03-22</td>\n",
       "        </tr>\n",
       "    </tbody>\n",
       "</table>"
      ],
      "text/plain": [
       "[(619, 'DR-1', '1927-02-08'),\n",
       " (622, 'DR-1', '1927-02-10'),\n",
       " (844, 'DR-1', '1932-03-22')]"
      ]
     },
     "execution_count": 20,
     "metadata": {},
     "output_type": "execute_result"
    }
   ],
   "source": [
    "%%sql\n",
    "SELECT *\n",
    "FROM Visited \n",
    "WHERE site = 'DR-1'\n",
    "ORDER BY dated;"
   ]
  },
  {
   "cell_type": "markdown",
   "id": "22bdcb49-250a-41ad-86c0-0aa4666d5108",
   "metadata": {},
   "source": [
    "SQL does this by executing a two-step query.\n",
    "- First, it identifies rows in the table where site = 'DR-1'\n",
    "- Then, it selects the columns we're interested in\n",
    "![](https://swcarpentry.github.io/sql-novice-survey/fig/sql-filter.svg)\n",
    "\n",
    "Because of this order, we can filter based on columns that we don't actually select."
   ]
  },
  {
   "cell_type": "markdown",
   "id": "d0b7c095-8d8e-4767-8f46-e0c35920d82f",
   "metadata": {},
   "source": []
  },
  {
   "cell_type": "markdown",
   "id": "42c5e7e5-a87c-4711-9ff1-0a190773831b",
   "metadata": {},
   "source": [
    "SQL filters based on **Boolean** logic, meaning that it checks whether a certain condition is `true` or `false` in each row, and then returns the rows where the condition is `true`.\n",
    "\n",
    "The last example had a boolean condition that would be true if two text values were equal. But we could do other operators. For example, let's say we wanted all rows that were recorded before 1930:"
   ]
  },
  {
   "cell_type": "code",
   "execution_count": 21,
   "id": "0be87e8a-e723-4ec2-8f6f-ee727a2fc193",
   "metadata": {},
   "outputs": [
    {
     "name": "stdout",
     "output_type": "stream",
     "text": [
      "   sqlite://\n",
      " * sqlite:///survey.db\n",
      "Done.\n"
     ]
    },
    {
     "data": {
      "text/html": [
       "<table>\n",
       "    <thead>\n",
       "        <tr>\n",
       "            <th>id</th>\n",
       "            <th>site</th>\n",
       "            <th>dated</th>\n",
       "        </tr>\n",
       "    </thead>\n",
       "    <tbody>\n",
       "        <tr>\n",
       "            <td>619</td>\n",
       "            <td>DR-1</td>\n",
       "            <td>1927-02-08</td>\n",
       "        </tr>\n",
       "        <tr>\n",
       "            <td>622</td>\n",
       "            <td>DR-1</td>\n",
       "            <td>1927-02-10</td>\n",
       "        </tr>\n",
       "    </tbody>\n",
       "</table>"
      ],
      "text/plain": [
       "[(619, 'DR-1', '1927-02-08'), (622, 'DR-1', '1927-02-10')]"
      ]
     },
     "execution_count": 21,
     "metadata": {},
     "output_type": "execute_result"
    }
   ],
   "source": [
    "%%sql\n",
    "SELECT *\n",
    "FROM Visited \n",
    "WHERE dated < '1930-01-01'\n",
    "ORDER BY id;"
   ]
  },
  {
   "cell_type": "markdown",
   "id": "91e86fd4-0e7a-47c5-9c04-95e5588504a2",
   "metadata": {},
   "source": [
    "We can combine by using `AND`:"
   ]
  },
  {
   "cell_type": "code",
   "execution_count": 24,
   "id": "e5d76da6-e6a4-4139-b5e9-3bff0e95afc1",
   "metadata": {},
   "outputs": [
    {
     "name": "stdout",
     "output_type": "stream",
     "text": [
      "   sqlite://\n",
      " * sqlite:///survey.db\n",
      "Done.\n"
     ]
    },
    {
     "data": {
      "text/html": [
       "<table>\n",
       "    <thead>\n",
       "        <tr>\n",
       "            <th>id</th>\n",
       "            <th>site</th>\n",
       "            <th>dated</th>\n",
       "        </tr>\n",
       "    </thead>\n",
       "    <tbody>\n",
       "        <tr>\n",
       "            <td>619</td>\n",
       "            <td>DR-1</td>\n",
       "            <td>1927-02-08</td>\n",
       "        </tr>\n",
       "        <tr>\n",
       "            <td>622</td>\n",
       "            <td>DR-1</td>\n",
       "            <td>1927-02-10</td>\n",
       "        </tr>\n",
       "    </tbody>\n",
       "</table>"
      ],
      "text/plain": [
       "[(619, 'DR-1', '1927-02-08'), (622, 'DR-1', '1927-02-10')]"
      ]
     },
     "execution_count": 24,
     "metadata": {},
     "output_type": "execute_result"
    }
   ],
   "source": [
    "%%sql\n",
    "SELECT *\n",
    "FROM Visited \n",
    "WHERE dated < '1930-01-12' AND site = 'DR-1'\n",
    "ORDER BY id;"
   ]
  },
  {
   "cell_type": "markdown",
   "id": "21a3d7f8-3988-4771-886f-d8d2d424eed3",
   "metadata": {},
   "source": [
    "#### TODO\n",
    "Write a query that takes all survey measurements that were taken by **lake**."
   ]
  },
  {
   "cell_type": "code",
   "execution_count": 23,
   "id": "99046633-7533-4d0b-afee-d95c65f96613",
   "metadata": {},
   "outputs": [
    {
     "name": "stdout",
     "output_type": "stream",
     "text": [
      "   sqlite://\n",
      " * sqlite:///survey.db\n",
      "Done.\n"
     ]
    },
    {
     "data": {
      "text/html": [
       "<table>\n",
       "    <thead>\n",
       "        <tr>\n",
       "            <th>taken</th>\n",
       "            <th>person</th>\n",
       "            <th>quant</th>\n",
       "            <th>reading</th>\n",
       "        </tr>\n",
       "    </thead>\n",
       "    <tbody>\n",
       "        <tr>\n",
       "            <td>734</td>\n",
       "            <td>lake</td>\n",
       "            <td>sal</td>\n",
       "            <td>0.05</td>\n",
       "        </tr>\n",
       "        <tr>\n",
       "            <td>751</td>\n",
       "            <td>lake</td>\n",
       "            <td>sal</td>\n",
       "            <td>0.1</td>\n",
       "        </tr>\n",
       "        <tr>\n",
       "            <td>752</td>\n",
       "            <td>lake</td>\n",
       "            <td>rad</td>\n",
       "            <td>2.19</td>\n",
       "        </tr>\n",
       "        <tr>\n",
       "            <td>752</td>\n",
       "            <td>lake</td>\n",
       "            <td>sal</td>\n",
       "            <td>0.09</td>\n",
       "        </tr>\n",
       "        <tr>\n",
       "            <td>752</td>\n",
       "            <td>lake</td>\n",
       "            <td>temp</td>\n",
       "            <td>-16.0</td>\n",
       "        </tr>\n",
       "        <tr>\n",
       "            <td>837</td>\n",
       "            <td>lake</td>\n",
       "            <td>rad</td>\n",
       "            <td>1.46</td>\n",
       "        </tr>\n",
       "        <tr>\n",
       "            <td>837</td>\n",
       "            <td>lake</td>\n",
       "            <td>sal</td>\n",
       "            <td>0.21</td>\n",
       "        </tr>\n",
       "    </tbody>\n",
       "</table>"
      ],
      "text/plain": [
       "[(734, 'lake', 'sal', 0.05),\n",
       " (751, 'lake', 'sal', 0.1),\n",
       " (752, 'lake', 'rad', 2.19),\n",
       " (752, 'lake', 'sal', 0.09),\n",
       " (752, 'lake', 'temp', -16.0),\n",
       " (837, 'lake', 'rad', 1.46),\n",
       " (837, 'lake', 'sal', 0.21)]"
      ]
     },
     "execution_count": 23,
     "metadata": {},
     "output_type": "execute_result"
    }
   ],
   "source": [
    "%%sql\n",
    "SELECT * FROM Survey WHERE person = 'lake';"
   ]
  },
  {
   "cell_type": "markdown",
   "id": "d1a3b2a0-169f-4786-97ab-587ff2773179",
   "metadata": {},
   "source": [
    "#### TODO\n",
    "Write a query that takes all survey measurements for temperature that had a value between -25 and -20."
   ]
  },
  {
   "cell_type": "code",
   "execution_count": 26,
   "id": "74347daa-e50c-4abb-8eb8-e59baf56f8f8",
   "metadata": {},
   "outputs": [
    {
     "name": "stdout",
     "output_type": "stream",
     "text": [
      "   sqlite://\n",
      " * sqlite:///survey.db\n",
      "Done.\n"
     ]
    },
    {
     "data": {
      "text/html": [
       "<table>\n",
       "    <thead>\n",
       "        <tr>\n",
       "            <th>taken</th>\n",
       "            <th>person</th>\n",
       "            <th>quant</th>\n",
       "            <th>reading</th>\n",
       "        </tr>\n",
       "    </thead>\n",
       "    <tbody>\n",
       "        <tr>\n",
       "            <td>734</td>\n",
       "            <td>pb</td>\n",
       "            <td>temp</td>\n",
       "            <td>-21.5</td>\n",
       "        </tr>\n",
       "    </tbody>\n",
       "</table>"
      ],
      "text/plain": [
       "[(734, 'pb', 'temp', -21.5)]"
      ]
     },
     "execution_count": 26,
     "metadata": {},
     "output_type": "execute_result"
    }
   ],
   "source": [
    "%%sql\n",
    "SELECT * FROM Survey \n",
    "WHERE reading > -25\n",
    "    AND reading < -20;"
   ]
  },
  {
   "cell_type": "code",
   "execution_count": null,
   "id": "58658f6e-c303-4a2c-9f1f-4857fdb56f19",
   "metadata": {},
   "outputs": [],
   "source": []
  },
  {
   "cell_type": "markdown",
   "id": "5d3ec555-06e4-402c-b1c0-b81b66a9186d",
   "metadata": {},
   "source": [
    "Earlier, we used the `AND` keyword, which required that both conditions be true. We could also require that either condition be true using the `OR` keyword:"
   ]
  },
  {
   "cell_type": "code",
   "execution_count": 27,
   "id": "c30c9ab7-a5b4-4622-a82f-821e26adf8e5",
   "metadata": {},
   "outputs": [
    {
     "name": "stdout",
     "output_type": "stream",
     "text": [
      "   sqlite://\n",
      " * sqlite:///survey.db\n",
      "Done.\n"
     ]
    },
    {
     "data": {
      "text/html": [
       "<table>\n",
       "    <thead>\n",
       "        <tr>\n",
       "            <th>taken</th>\n",
       "            <th>person</th>\n",
       "            <th>quant</th>\n",
       "            <th>reading</th>\n",
       "        </tr>\n",
       "    </thead>\n",
       "    <tbody>\n",
       "        <tr>\n",
       "            <td>734</td>\n",
       "            <td>lake</td>\n",
       "            <td>sal</td>\n",
       "            <td>0.05</td>\n",
       "        </tr>\n",
       "        <tr>\n",
       "            <td>751</td>\n",
       "            <td>lake</td>\n",
       "            <td>sal</td>\n",
       "            <td>0.1</td>\n",
       "        </tr>\n",
       "        <tr>\n",
       "            <td>752</td>\n",
       "            <td>lake</td>\n",
       "            <td>rad</td>\n",
       "            <td>2.19</td>\n",
       "        </tr>\n",
       "        <tr>\n",
       "            <td>752</td>\n",
       "            <td>lake</td>\n",
       "            <td>sal</td>\n",
       "            <td>0.09</td>\n",
       "        </tr>\n",
       "        <tr>\n",
       "            <td>752</td>\n",
       "            <td>lake</td>\n",
       "            <td>temp</td>\n",
       "            <td>-16.0</td>\n",
       "        </tr>\n",
       "        <tr>\n",
       "            <td>752</td>\n",
       "            <td>roe</td>\n",
       "            <td>sal</td>\n",
       "            <td>41.6</td>\n",
       "        </tr>\n",
       "        <tr>\n",
       "            <td>837</td>\n",
       "            <td>lake</td>\n",
       "            <td>rad</td>\n",
       "            <td>1.46</td>\n",
       "        </tr>\n",
       "        <tr>\n",
       "            <td>837</td>\n",
       "            <td>lake</td>\n",
       "            <td>sal</td>\n",
       "            <td>0.21</td>\n",
       "        </tr>\n",
       "        <tr>\n",
       "            <td>837</td>\n",
       "            <td>roe</td>\n",
       "            <td>sal</td>\n",
       "            <td>22.5</td>\n",
       "        </tr>\n",
       "        <tr>\n",
       "            <td>844</td>\n",
       "            <td>roe</td>\n",
       "            <td>rad</td>\n",
       "            <td>11.25</td>\n",
       "        </tr>\n",
       "    </tbody>\n",
       "</table>"
      ],
      "text/plain": [
       "[(734, 'lake', 'sal', 0.05),\n",
       " (751, 'lake', 'sal', 0.1),\n",
       " (752, 'lake', 'rad', 2.19),\n",
       " (752, 'lake', 'sal', 0.09),\n",
       " (752, 'lake', 'temp', -16.0),\n",
       " (752, 'roe', 'sal', 41.6),\n",
       " (837, 'lake', 'rad', 1.46),\n",
       " (837, 'lake', 'sal', 0.21),\n",
       " (837, 'roe', 'sal', 22.5),\n",
       " (844, 'roe', 'rad', 11.25)]"
      ]
     },
     "execution_count": 27,
     "metadata": {},
     "output_type": "execute_result"
    }
   ],
   "source": [
    "%%sql\n",
    "SELECT * FROM Survey WHERE person = 'lake' OR person = 'roe';"
   ]
  },
  {
   "cell_type": "code",
   "execution_count": null,
   "id": "5003b8b3-ed41-4167-8ce4-f5fc584b31f8",
   "metadata": {},
   "outputs": [],
   "source": []
  },
  {
   "cell_type": "markdown",
   "id": "6ff95cfb-b2f6-4e4b-86dd-189b92733fc1",
   "metadata": {},
   "source": [
    "Or we can use `IN` to see if a value is in a specific set:"
   ]
  },
  {
   "cell_type": "code",
   "execution_count": 28,
   "id": "8f1cbb05-c5bc-4480-9ab0-de43c36dd7a7",
   "metadata": {},
   "outputs": [
    {
     "name": "stdout",
     "output_type": "stream",
     "text": [
      "   sqlite://\n",
      " * sqlite:///survey.db\n",
      "Done.\n"
     ]
    },
    {
     "data": {
      "text/html": [
       "<table>\n",
       "    <thead>\n",
       "        <tr>\n",
       "            <th>taken</th>\n",
       "            <th>person</th>\n",
       "            <th>quant</th>\n",
       "            <th>reading</th>\n",
       "        </tr>\n",
       "    </thead>\n",
       "    <tbody>\n",
       "        <tr>\n",
       "            <td>734</td>\n",
       "            <td>lake</td>\n",
       "            <td>sal</td>\n",
       "            <td>0.05</td>\n",
       "        </tr>\n",
       "        <tr>\n",
       "            <td>751</td>\n",
       "            <td>lake</td>\n",
       "            <td>sal</td>\n",
       "            <td>0.1</td>\n",
       "        </tr>\n",
       "        <tr>\n",
       "            <td>752</td>\n",
       "            <td>lake</td>\n",
       "            <td>rad</td>\n",
       "            <td>2.19</td>\n",
       "        </tr>\n",
       "        <tr>\n",
       "            <td>752</td>\n",
       "            <td>lake</td>\n",
       "            <td>sal</td>\n",
       "            <td>0.09</td>\n",
       "        </tr>\n",
       "        <tr>\n",
       "            <td>752</td>\n",
       "            <td>lake</td>\n",
       "            <td>temp</td>\n",
       "            <td>-16.0</td>\n",
       "        </tr>\n",
       "        <tr>\n",
       "            <td>752</td>\n",
       "            <td>roe</td>\n",
       "            <td>sal</td>\n",
       "            <td>41.6</td>\n",
       "        </tr>\n",
       "        <tr>\n",
       "            <td>837</td>\n",
       "            <td>lake</td>\n",
       "            <td>rad</td>\n",
       "            <td>1.46</td>\n",
       "        </tr>\n",
       "        <tr>\n",
       "            <td>837</td>\n",
       "            <td>lake</td>\n",
       "            <td>sal</td>\n",
       "            <td>0.21</td>\n",
       "        </tr>\n",
       "        <tr>\n",
       "            <td>837</td>\n",
       "            <td>roe</td>\n",
       "            <td>sal</td>\n",
       "            <td>22.5</td>\n",
       "        </tr>\n",
       "        <tr>\n",
       "            <td>844</td>\n",
       "            <td>roe</td>\n",
       "            <td>rad</td>\n",
       "            <td>11.25</td>\n",
       "        </tr>\n",
       "    </tbody>\n",
       "</table>"
      ],
      "text/plain": [
       "[(734, 'lake', 'sal', 0.05),\n",
       " (751, 'lake', 'sal', 0.1),\n",
       " (752, 'lake', 'rad', 2.19),\n",
       " (752, 'lake', 'sal', 0.09),\n",
       " (752, 'lake', 'temp', -16.0),\n",
       " (752, 'roe', 'sal', 41.6),\n",
       " (837, 'lake', 'rad', 1.46),\n",
       " (837, 'lake', 'sal', 0.21),\n",
       " (837, 'roe', 'sal', 22.5),\n",
       " (844, 'roe', 'rad', 11.25)]"
      ]
     },
     "execution_count": 28,
     "metadata": {},
     "output_type": "execute_result"
    }
   ],
   "source": [
    "%%sql\n",
    "SELECT * FROM Survey WHERE person IN ('lake', 'roe');"
   ]
  },
  {
   "cell_type": "code",
   "execution_count": null,
   "id": "b8999da9-dd1c-46e9-9a35-de9ff2e56782",
   "metadata": {},
   "outputs": [],
   "source": []
  },
  {
   "cell_type": "markdown",
   "id": "08e99d9d-7083-4e5f-9299-3f845ebbe26c",
   "metadata": {},
   "source": [
    "We can also combine `AND` with `OR`, but need to be careful. For example, let's say we want to find all `sal` quantities taken by either `roe` or `lake`. We might write this query:\n",
    "\n",
    "```sql\n",
    "SELECT * FROM Survey WHERE quant = 'sal' AND person = 'lake' OR person = 'roe';\n",
    "```\n",
    "\n",
    "#### TODO\n",
    "What's wrong with that query?\n",
    "\n",
    "In this query does this mean:\n",
    "- Option 1:\n",
    "    - Records with a quant of `sal` AND person = 'lake'\n",
    "    - or a person = 'roe'\n",
    "- Option 2:\n",
    "    - Records with a quant of 'sal'\n",
    "    - And records where the person = 'lake' or the person = 'roe'\n",
    "\n",
    "\n",
    "We can use parentheses instead:"
   ]
  },
  {
   "cell_type": "code",
   "execution_count": 29,
   "id": "039321be-15ce-4abc-90bb-1c3ea722d33c",
   "metadata": {},
   "outputs": [
    {
     "name": "stdout",
     "output_type": "stream",
     "text": [
      "   sqlite://\n",
      " * sqlite:///survey.db\n",
      "Done.\n"
     ]
    },
    {
     "data": {
      "text/html": [
       "<table>\n",
       "    <thead>\n",
       "        <tr>\n",
       "            <th>taken</th>\n",
       "            <th>person</th>\n",
       "            <th>quant</th>\n",
       "            <th>reading</th>\n",
       "        </tr>\n",
       "    </thead>\n",
       "    <tbody>\n",
       "        <tr>\n",
       "            <td>734</td>\n",
       "            <td>lake</td>\n",
       "            <td>sal</td>\n",
       "            <td>0.05</td>\n",
       "        </tr>\n",
       "        <tr>\n",
       "            <td>751</td>\n",
       "            <td>lake</td>\n",
       "            <td>sal</td>\n",
       "            <td>0.1</td>\n",
       "        </tr>\n",
       "        <tr>\n",
       "            <td>752</td>\n",
       "            <td>lake</td>\n",
       "            <td>sal</td>\n",
       "            <td>0.09</td>\n",
       "        </tr>\n",
       "        <tr>\n",
       "            <td>752</td>\n",
       "            <td>roe</td>\n",
       "            <td>sal</td>\n",
       "            <td>41.6</td>\n",
       "        </tr>\n",
       "        <tr>\n",
       "            <td>837</td>\n",
       "            <td>lake</td>\n",
       "            <td>sal</td>\n",
       "            <td>0.21</td>\n",
       "        </tr>\n",
       "        <tr>\n",
       "            <td>837</td>\n",
       "            <td>roe</td>\n",
       "            <td>sal</td>\n",
       "            <td>22.5</td>\n",
       "        </tr>\n",
       "    </tbody>\n",
       "</table>"
      ],
      "text/plain": [
       "[(734, 'lake', 'sal', 0.05),\n",
       " (751, 'lake', 'sal', 0.1),\n",
       " (752, 'lake', 'sal', 0.09),\n",
       " (752, 'roe', 'sal', 41.6),\n",
       " (837, 'lake', 'sal', 0.21),\n",
       " (837, 'roe', 'sal', 22.5)]"
      ]
     },
     "execution_count": 29,
     "metadata": {},
     "output_type": "execute_result"
    }
   ],
   "source": [
    "%%sql\n",
    "SELECT * FROM Survey WHERE quant = 'sal' AND (person = 'lake' OR person = 'roe');"
   ]
  },
  {
   "cell_type": "markdown",
   "id": "7e2b3a03-bdcf-4030-8a1f-91dc0a9d2482",
   "metadata": {},
   "source": [
    "#### TODO\n",
    "Write two different queries that return records from `Visited` where `site` starts with **DR**."
   ]
  },
  {
   "cell_type": "code",
   "execution_count": 30,
   "id": "ca6aa185-1f46-46f2-81b2-78ac9f4bd432",
   "metadata": {},
   "outputs": [
    {
     "name": "stdout",
     "output_type": "stream",
     "text": [
      "   sqlite://\n",
      " * sqlite:///survey.db\n",
      "Done.\n"
     ]
    },
    {
     "data": {
      "text/html": [
       "<table>\n",
       "    <thead>\n",
       "        <tr>\n",
       "            <th>id</th>\n",
       "            <th>site</th>\n",
       "            <th>dated</th>\n",
       "        </tr>\n",
       "    </thead>\n",
       "    <tbody>\n",
       "        <tr>\n",
       "            <td>619</td>\n",
       "            <td>DR-1</td>\n",
       "            <td>1927-02-08</td>\n",
       "        </tr>\n",
       "        <tr>\n",
       "            <td>622</td>\n",
       "            <td>DR-1</td>\n",
       "            <td>1927-02-10</td>\n",
       "        </tr>\n",
       "        <tr>\n",
       "            <td>734</td>\n",
       "            <td>DR-3</td>\n",
       "            <td>1930-01-07</td>\n",
       "        </tr>\n",
       "        <tr>\n",
       "            <td>735</td>\n",
       "            <td>DR-3</td>\n",
       "            <td>1930-01-12</td>\n",
       "        </tr>\n",
       "        <tr>\n",
       "            <td>751</td>\n",
       "            <td>DR-3</td>\n",
       "            <td>1930-02-26</td>\n",
       "        </tr>\n",
       "        <tr>\n",
       "            <td>752</td>\n",
       "            <td>DR-3</td>\n",
       "            <td>None</td>\n",
       "        </tr>\n",
       "        <tr>\n",
       "            <td>844</td>\n",
       "            <td>DR-1</td>\n",
       "            <td>1932-03-22</td>\n",
       "        </tr>\n",
       "    </tbody>\n",
       "</table>"
      ],
      "text/plain": [
       "[(619, 'DR-1', '1927-02-08'),\n",
       " (622, 'DR-1', '1927-02-10'),\n",
       " (734, 'DR-3', '1930-01-07'),\n",
       " (735, 'DR-3', '1930-01-12'),\n",
       " (751, 'DR-3', '1930-02-26'),\n",
       " (752, 'DR-3', None),\n",
       " (844, 'DR-1', '1932-03-22')]"
      ]
     },
     "execution_count": 30,
     "metadata": {},
     "output_type": "execute_result"
    }
   ],
   "source": [
    "%%sql\n",
    "SELECT *\n",
    "FROM Visited \n",
    "WHERE site = 'DR-1' OR site = 'DR-3';"
   ]
  },
  {
   "cell_type": "code",
   "execution_count": 31,
   "id": "303b4d5e-56eb-4551-abc9-dccf05e39033",
   "metadata": {},
   "outputs": [
    {
     "name": "stdout",
     "output_type": "stream",
     "text": [
      "   sqlite://\n",
      " * sqlite:///survey.db\n",
      "Done.\n"
     ]
    },
    {
     "data": {
      "text/html": [
       "<table>\n",
       "    <thead>\n",
       "        <tr>\n",
       "            <th>id</th>\n",
       "            <th>site</th>\n",
       "            <th>dated</th>\n",
       "        </tr>\n",
       "    </thead>\n",
       "    <tbody>\n",
       "        <tr>\n",
       "            <td>619</td>\n",
       "            <td>DR-1</td>\n",
       "            <td>1927-02-08</td>\n",
       "        </tr>\n",
       "        <tr>\n",
       "            <td>622</td>\n",
       "            <td>DR-1</td>\n",
       "            <td>1927-02-10</td>\n",
       "        </tr>\n",
       "        <tr>\n",
       "            <td>844</td>\n",
       "            <td>DR-1</td>\n",
       "            <td>1932-03-22</td>\n",
       "        </tr>\n",
       "    </tbody>\n",
       "</table>"
      ],
      "text/plain": [
       "[(619, 'DR-1', '1927-02-08'),\n",
       " (622, 'DR-1', '1927-02-10'),\n",
       " (844, 'DR-1', '1932-03-22')]"
      ]
     },
     "execution_count": 31,
     "metadata": {},
     "output_type": "execute_result"
    }
   ],
   "source": [
    "%%sql\n",
    "SELECT *\n",
    "FROM Visited \n",
    "WHERE site IN ('DR-1', site = 'DR-3')"
   ]
  },
  {
   "cell_type": "markdown",
   "id": "c4380bee-9b58-4dc7-964b-cd43f9c0dfec",
   "metadata": {},
   "source": [
    "## Wildcards\n",
    "We might want to match different combinations of strings. The `LIKE` operator lets us search for wildcards using `%`:"
   ]
  },
  {
   "cell_type": "code",
   "execution_count": 32,
   "id": "92fc9a5d-a06d-4b1d-902a-735775560319",
   "metadata": {},
   "outputs": [
    {
     "name": "stdout",
     "output_type": "stream",
     "text": [
      "   sqlite://\n",
      " * sqlite:///survey.db\n",
      "Done.\n"
     ]
    },
    {
     "data": {
      "text/html": [
       "<table>\n",
       "    <thead>\n",
       "        <tr>\n",
       "            <th>id</th>\n",
       "            <th>site</th>\n",
       "            <th>dated</th>\n",
       "        </tr>\n",
       "    </thead>\n",
       "    <tbody>\n",
       "        <tr>\n",
       "            <td>619</td>\n",
       "            <td>DR-1</td>\n",
       "            <td>1927-02-08</td>\n",
       "        </tr>\n",
       "        <tr>\n",
       "            <td>622</td>\n",
       "            <td>DR-1</td>\n",
       "            <td>1927-02-10</td>\n",
       "        </tr>\n",
       "        <tr>\n",
       "            <td>734</td>\n",
       "            <td>DR-3</td>\n",
       "            <td>1930-01-07</td>\n",
       "        </tr>\n",
       "        <tr>\n",
       "            <td>735</td>\n",
       "            <td>DR-3</td>\n",
       "            <td>1930-01-12</td>\n",
       "        </tr>\n",
       "        <tr>\n",
       "            <td>751</td>\n",
       "            <td>DR-3</td>\n",
       "            <td>1930-02-26</td>\n",
       "        </tr>\n",
       "        <tr>\n",
       "            <td>752</td>\n",
       "            <td>DR-3</td>\n",
       "            <td>None</td>\n",
       "        </tr>\n",
       "        <tr>\n",
       "            <td>844</td>\n",
       "            <td>DR-1</td>\n",
       "            <td>1932-03-22</td>\n",
       "        </tr>\n",
       "    </tbody>\n",
       "</table>"
      ],
      "text/plain": [
       "[(619, 'DR-1', '1927-02-08'),\n",
       " (622, 'DR-1', '1927-02-10'),\n",
       " (734, 'DR-3', '1930-01-07'),\n",
       " (735, 'DR-3', '1930-01-12'),\n",
       " (751, 'DR-3', '1930-02-26'),\n",
       " (752, 'DR-3', None),\n",
       " (844, 'DR-1', '1932-03-22')]"
      ]
     },
     "execution_count": 32,
     "metadata": {},
     "output_type": "execute_result"
    }
   ],
   "source": [
    "%%sql\n",
    "SELECT * FROM Visited WHERE site LIKE 'DR%';"
   ]
  },
  {
   "cell_type": "markdown",
   "id": "8e29969f-4626-41c3-b83e-6969170b3aa8",
   "metadata": {},
   "source": []
  },
  {
   "cell_type": "markdown",
   "id": "e874e6f1-2966-469a-89d6-69ffe6e6f4d5",
   "metadata": {},
   "source": [
    "## Growing queries\n",
    "\n",
    "**\"Find out what quantities were measured by Drs. Lake and Roe\"\n",
    "\n",
    "1. Select the person and quantity from the survey table\n",
    "2. Limit to records with Lake or Roe\n",
    "3. Deduplicate"
   ]
  },
  {
   "cell_type": "code",
   "execution_count": null,
   "id": "5c41765b-1a5f-4cea-a53c-c76ec2bffc59",
   "metadata": {},
   "outputs": [],
   "source": [
    "%%sql\n",
    "SELECT * FROM Visited WHERE site LIKE 'DR%';"
   ]
  },
  {
   "cell_type": "code",
   "execution_count": null,
   "id": "66fa702c-b4d6-4a25-846f-3e58cd8f911f",
   "metadata": {},
   "outputs": [],
   "source": []
  },
  {
   "cell_type": "markdown",
   "id": "9b9e39fa-0678-4ff4-96a5-0a1ba5991fc0",
   "metadata": {},
   "source": [
    "#### TODO\n",
    "Suppose we want to select all sites that lie within 48 degrees of the equator. Our first query is:"
   ]
  },
  {
   "cell_type": "code",
   "execution_count": 33,
   "id": "8cc2dd8c-b153-4ae2-9352-2140f79ab35f",
   "metadata": {},
   "outputs": [
    {
     "name": "stdout",
     "output_type": "stream",
     "text": [
      "   sqlite://\n",
      " * sqlite:///survey.db\n",
      "Done.\n"
     ]
    },
    {
     "data": {
      "text/html": [
       "<table>\n",
       "    <thead>\n",
       "        <tr>\n",
       "            <th>name</th>\n",
       "            <th>lat</th>\n",
       "            <th>long</th>\n",
       "        </tr>\n",
       "    </thead>\n",
       "    <tbody>\n",
       "        <tr>\n",
       "            <td>DR-1</td>\n",
       "            <td>-49.85</td>\n",
       "            <td>-128.57</td>\n",
       "        </tr>\n",
       "        <tr>\n",
       "            <td>DR-3</td>\n",
       "            <td>-47.15</td>\n",
       "            <td>-126.72</td>\n",
       "        </tr>\n",
       "        <tr>\n",
       "            <td>MSK-4</td>\n",
       "            <td>-48.87</td>\n",
       "            <td>-123.4</td>\n",
       "        </tr>\n",
       "    </tbody>\n",
       "</table>"
      ],
      "text/plain": [
       "[('DR-1', -49.85, -128.57),\n",
       " ('DR-3', -47.15, -126.72),\n",
       " ('MSK-4', -48.87, -123.4)]"
      ]
     },
     "execution_count": 33,
     "metadata": {},
     "output_type": "execute_result"
    }
   ],
   "source": [
    "%%sql\n",
    "SELECT * FROM Site WHERE (lat > -48) OR (lat < 48);"
   ]
  },
  {
   "cell_type": "code",
   "execution_count": 35,
   "id": "5592a774-2e69-49df-9892-274256af06da",
   "metadata": {},
   "outputs": [
    {
     "name": "stdout",
     "output_type": "stream",
     "text": [
      "   sqlite://\n",
      " * sqlite:///survey.db\n",
      "Done.\n"
     ]
    },
    {
     "data": {
      "text/html": [
       "<table>\n",
       "    <thead>\n",
       "        <tr>\n",
       "            <th>name</th>\n",
       "            <th>lat</th>\n",
       "            <th>long</th>\n",
       "        </tr>\n",
       "    </thead>\n",
       "    <tbody>\n",
       "        <tr>\n",
       "            <td>DR-3</td>\n",
       "            <td>-47.15</td>\n",
       "            <td>-126.72</td>\n",
       "        </tr>\n",
       "    </tbody>\n",
       "</table>"
      ],
      "text/plain": [
       "[('DR-3', -47.15, -126.72)]"
      ]
     },
     "execution_count": 35,
     "metadata": {},
     "output_type": "execute_result"
    }
   ],
   "source": [
    "%%sql\n",
    "SELECT * FROM Site WHERE (lat > -48) AND (lat < 48);"
   ]
  },
  {
   "cell_type": "code",
   "execution_count": null,
   "id": "6dda3ddb-a96d-4575-a8a8-671db6dc72f4",
   "metadata": {},
   "outputs": [],
   "source": []
  },
  {
   "cell_type": "markdown",
   "id": "4375f9b1-dc6d-4af3-8083-2db58bb7e4ef",
   "metadata": {},
   "source": [
    "#### TODO\n",
    "Normalized salinity readings are supposed to be between 0.0 and 1.0. Write a query that selects all records from Survey with salinity values outside this range."
   ]
  },
  {
   "cell_type": "code",
   "execution_count": 36,
   "id": "ac098d16-5c22-4d17-8ae5-965e81b4dee2",
   "metadata": {},
   "outputs": [
    {
     "name": "stdout",
     "output_type": "stream",
     "text": [
      "   sqlite://\n",
      " * sqlite:///survey.db\n",
      "Done.\n"
     ]
    },
    {
     "data": {
      "text/html": [
       "<table>\n",
       "    <thead>\n",
       "        <tr>\n",
       "            <th>taken</th>\n",
       "            <th>person</th>\n",
       "            <th>quant</th>\n",
       "            <th>reading</th>\n",
       "        </tr>\n",
       "    </thead>\n",
       "    <tbody>\n",
       "        <tr>\n",
       "            <td>752</td>\n",
       "            <td>roe</td>\n",
       "            <td>sal</td>\n",
       "            <td>41.6</td>\n",
       "        </tr>\n",
       "        <tr>\n",
       "            <td>837</td>\n",
       "            <td>roe</td>\n",
       "            <td>sal</td>\n",
       "            <td>22.5</td>\n",
       "        </tr>\n",
       "    </tbody>\n",
       "</table>"
      ],
      "text/plain": [
       "[(752, 'roe', 'sal', 41.6), (837, 'roe', 'sal', 22.5)]"
      ]
     },
     "execution_count": 36,
     "metadata": {},
     "output_type": "execute_result"
    }
   ],
   "source": [
    "%%sql\n",
    "SELECT * FROM Survey WHERE quant = 'sal' AND ((reading > 1.0) OR (reading < 0.0));"
   ]
  },
  {
   "cell_type": "code",
   "execution_count": null,
   "id": "a4183f37-96a7-4d3f-b069-73f7cb216463",
   "metadata": {},
   "outputs": [],
   "source": []
  },
  {
   "cell_type": "markdown",
   "id": "294158a2-2dce-49c5-9264-b667a852fc55",
   "metadata": {},
   "source": [
    "#### TODO\n",
    "Which of these expressions are `true`?\n",
    "\n",
    "1. `'a' LIKE 'a'`\n",
    "2. `'a' LIKE '%a'`\n",
    "3. `'beta' LIKE '%a'`\n",
    "4. `'alpha' LIKE 'a%%'`\n",
    "5. `'alpha' LIKE 'a%p%'`\n"
   ]
  },
  {
   "cell_type": "code",
   "execution_count": null,
   "id": "1ada90fd-dd23-4c43-bed6-a455eacea87f",
   "metadata": {},
   "outputs": [],
   "source": []
  }
 ],
 "metadata": {
  "kernelspec": {
   "display_name": "Python 3 (ipykernel)",
   "language": "python",
   "name": "python3"
  },
  "language_info": {
   "codemirror_mode": {
    "name": "ipython",
    "version": 3
   },
   "file_extension": ".py",
   "mimetype": "text/x-python",
   "name": "python",
   "nbconvert_exporter": "python",
   "pygments_lexer": "ipython3",
   "version": "3.11.5"
  }
 },
 "nbformat": 4,
 "nbformat_minor": 5
}
